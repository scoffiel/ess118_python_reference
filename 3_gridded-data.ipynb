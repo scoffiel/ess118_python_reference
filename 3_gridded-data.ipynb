{
 "cells": [
  {
   "cell_type": "markdown",
   "metadata": {},
   "source": [
    "# Week 3: Working with NC files, regression\n",
    "You can download this notebook and interact with it in Anaconda Jupyter Notebook.\n",
    "This week we go over multidimensional gridded data, which are commonly stored as netcdf (NC) files. For example, our global precipitation file is 3-D with dimensions for time, latitude, and longitude. We'll also start discussing regression, a statistical method for fitting a trendline and evaluation correlation between data"
   ]
  },
  {
   "cell_type": "code",
   "execution_count": 18,
   "metadata": {},
   "outputs": [],
   "source": [
    "import numpy as np\n",
    "import matplotlib.pyplot as py\n",
    "import xarray"
   ]
  },
  {
   "cell_type": "markdown",
   "metadata": {},
   "source": [
    "### Global precipitation example"
   ]
  },
  {
   "cell_type": "code",
   "execution_count": 19,
   "metadata": {},
   "outputs": [
    {
     "name": "stdout",
     "output_type": "stream",
     "text": [
      "<xarray.Dataset>\n",
      "Dimensions:    (lat: 72, lon: 144, nv: 2, time: 452)\n",
      "Coordinates:\n",
      "  * lat        (lat) float32 -88.75 -86.25 -83.75 -81.25 ... 83.75 86.25 88.75\n",
      "  * lon        (lon) float32 1.25 3.75 6.25 8.75 ... 351.25 353.75 356.25 358.75\n",
      "  * time       (time) datetime64[ns] 1979-01-01 1979-02-01 ... 2016-08-01\n",
      "Dimensions without coordinates: nv\n",
      "Data variables:\n",
      "    time_bnds  (time, nv) datetime64[ns] ...\n",
      "    lat_bnds   (lat, nv) float32 ...\n",
      "    lon_bnds   (lon, nv) float32 ...\n",
      "    precip     (time, lat, lon) float32 ...\n",
      "Attributes:\n",
      "    Conventions:           CF-1.0\n",
      "    curator:               Dr. Jian-Jian Wang\\nESSIC, University of Maryland ...\n",
      "    description:           http://eagle1.umd.edu/GPCP_ICDR/GPCPmonthlyV2.3.pdf\n",
      "    citation:              Adler, R.F., G.J. Huffman, A. Chang, R. Ferraro, P...\n",
      "    title:                 GPCP Version 2.3 Combined Precipitation Dataset (F...\n",
      "    platform:              NOAA POES (Polar Orbiting Environmental Satellites)\n",
      "    source_obs:            CDR RSS SSMI/SSMIS Tbs over ocean \\nCDR SSMI/SSMIS...\n",
      "    source:                http://eagle1.umd.edu/GPCP_CDR/Monthly_Data\n",
      "    source_documentation:  http://eagle1.umd.edu/GPCP_ICDR/\n",
      "    version:               V2.3\n",
      "    Acknowledgement:       \\n\n",
      "    contributor_name:      Robert Adler    University of Maryland \\nGeorge Hu...\n",
      "    history:               Generated at NOAA/ESRL PSD Sep 9 2016 based on dat...\n",
      "    dataset_title:         Global Precipitation Climatology Project (GPCP) Mo...\n",
      "    documentation:         https://www.esrl.noaa.gov/psd/data/gridded/data.gp...\n",
      "    References:            https://www.esrl.noaa.gov/psd/data/gridded/data.gp...\n"
     ]
    }
   ],
   "source": [
    "filename = 'precipdata.nc'\n",
    "nc_file = xarray.open_dataset(filename)\n",
    "print(nc_file)"
   ]
  },
  {
   "cell_type": "code",
   "execution_count": 20,
   "metadata": {},
   "outputs": [
    {
     "name": "stdout",
     "output_type": "stream",
     "text": [
      "(452, 72, 144) (72,) (72, 2)\n",
      "float32\n"
     ]
    }
   ],
   "source": [
    "#extract variables and put them into numpy arrays\n",
    "precip = nc_file['precip'].data\n",
    "time = nc_file['time'].data\n",
    "lat = nc_file['lat'].data\n",
    "lon = nc_file['lon'].data\n",
    "lat_bnds = nc_file['lat_bnds'].data\n",
    "print(precip.shape, lat.shape, lat_bnds.shape)\n",
    "print(precip.dtype)"
   ]
  },
  {
   "cell_type": "code",
   "execution_count": 21,
   "metadata": {},
   "outputs": [
    {
     "name": "stdout",
     "output_type": "stream",
     "text": [
      "(72, 144)\n"
     ]
    }
   ],
   "source": [
    "meanppt = np.mean(precip, axis = 0) #mean along the 'time' axis\n",
    "print(meanppt.shape)"
   ]
  },
  {
   "cell_type": "markdown",
   "metadata": {},
   "source": [
    "#### Plot time-averaged precip map"
   ]
  },
  {
   "cell_type": "code",
   "execution_count": 22,
   "metadata": {},
   "outputs": [
    {
     "data": {
      "image/png": "[encoded data removed]",
      "text/plain": [
       "<Figure size 576x432 with 2 Axes>"
      ]
     },
     "metadata": {
      "needs_background": "light"
     },
     "output_type": "display_data"
    }
   ],
   "source": [
    "py.close()\n",
    "fig = py.figure(figsize=(8,6))\n",
    "ax = fig.add_subplot(111)\n",
    "countour_plot = ax.contourf(lon, lat, meanppt) #could change colormap here too\n",
    "ax.axes.set_aspect('equal')\n",
    "cbar = py.colorbar(countour_plot, orientation='horizontal')\n",
    "cbar.set_label('mm/day')\n",
    "py.show()"
   ]
  },
  {
   "cell_type": "markdown",
   "metadata": {},
   "source": [
    "#### Find location with the most precipitation"
   ]
  },
  {
   "cell_type": "code",
   "execution_count": 23,
   "metadata": {},
   "outputs": [
    {
     "name": "stdout",
     "output_type": "stream",
     "text": [
      "Max ppt =  14.517002 mm/day\n"
     ]
    }
   ],
   "source": [
    "maxppt = np.max(meanppt)\n",
    "print('Max ppt = ', maxppt, 'mm/day')"
   ]
  },
  {
   "cell_type": "code",
   "execution_count": 24,
   "metadata": {},
   "outputs": [
    {
     "name": "stdout",
     "output_type": "stream",
     "text": [
      "Max ppt =  5.298705768585205 m/yr\n"
     ]
    }
   ],
   "source": [
    "#convert to meters per year\n",
    "maxppt_yrs = maxppt/1000*365\n",
    "print('Max ppt = ', maxppt_yrs, 'm/yr')"
   ]
  },
  {
   "cell_type": "code",
   "execution_count": 25,
   "metadata": {},
   "outputs": [
    {
     "name": "stdout",
     "output_type": "stream",
     "text": [
      "(array([37]), array([112]))\n"
     ]
    }
   ],
   "source": [
    "#find where that maximum precip occurs\n",
    "indices = np.where(meanppt == maxppt) #the == is called a conditional statement\n",
    "print(indices)"
   ]
  },
  {
   "cell_type": "code",
   "execution_count": 26,
   "metadata": {},
   "outputs": [],
   "source": [
    "i = indices[0]\n",
    "j = indices[1]"
   ]
  },
  {
   "cell_type": "code",
   "execution_count": 27,
   "metadata": {},
   "outputs": [
    {
     "name": "stdout",
     "output_type": "stream",
     "text": [
      "[3.75] [281.25]\n"
     ]
    }
   ],
   "source": [
    "print(lat[i], lon[j])"
   ]
  },
  {
   "cell_type": "markdown",
   "metadata": {},
   "source": [
    "#### Nested for loops: looping over both latitude and longitude\n",
    "The following example is the slow way of finding the location of maximum precip. We introduce 2 new concepts: nested for loops and conditional statements. We loop over every combination of [lat, lon] in the array and check if that precipation value is larger than our current largest value"
   ]
  },
  {
   "cell_type": "code",
   "execution_count": 35,
   "metadata": {},
   "outputs": [
    {
     "name": "stdout",
     "output_type": "stream",
     "text": [
      "14.517002\n",
      "lat 3.75 lon 281.25\n"
     ]
    }
   ],
   "source": [
    "maxslow = 0.0\n",
    "for i in range(len(lat)):\n",
    "    for j in range(len(lon)):\n",
    "        if meanppt[i,j] > maxslow: #conditional statement comparing 2 values\n",
    "            maxslow = meanppt[i,j] #overwrite the max value if we find a larger value\n",
    "            imax = i\n",
    "            jmax = j\n",
    "print(maxslow)\n",
    "print('lat', lat[imax], 'lon', lon[jmax])"
   ]
  },
  {
   "cell_type": "code",
   "execution_count": null,
   "metadata": {},
   "outputs": [],
   "source": []
  }
 ],
 "metadata": {
  "kernelspec": {
   "display_name": "Python 3",
   "language": "python",
   "name": "python3"
  },
  "language_info": {
   "codemirror_mode": {
    "name": "ipython",
    "version": 3
   },
   "file_extension": ".py",
   "mimetype": "text/x-python",
   "name": "python",
   "nbconvert_exporter": "python",
   "pygments_lexer": "ipython3",
   "version": "3.6.6"
  }
 },
 "nbformat": 4,
 "nbformat_minor": 2
}

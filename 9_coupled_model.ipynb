{
 "cells": [
  {
   "cell_type": "markdown",
   "metadata": {},
   "source": [
    "## Week 9\n",
    "### Coupled carbon model\n",
    "We will include land and ocean sinks and allow the rate of respiration to change with temperature"
   ]
  },
  {
   "cell_type": "markdown",
   "metadata": {},
   "source": [
    "Relevant equations from last time\n",
    "\n",
    "\\begin{equation*}\n",
    "C_b(t) = C_b(t-1) + (NPP - R_h)\n",
    "\\end{equation*}\n",
    "\n",
    "\n",
    "\\begin{equation*}\n",
    "NPP(t) = NPP(0) [ 1+\\beta \\ln \\frac {CO_2(t)}{CO_2(0)} ]\n",
    "\\end{equation*}\n",
    "\n"
   ]
  },
  {
   "cell_type": "code",
   "execution_count": 2,
   "metadata": {},
   "outputs": [],
   "source": [
    "import numpy as np\n",
    "import matplotlib.pyplot as py"
   ]
  },
  {
   "cell_type": "markdown",
   "metadata": {},
   "source": [
    "Read in the historical CO2 data"
   ]
  },
  {
   "cell_type": "code",
   "execution_count": 15,
   "metadata": {},
   "outputs": [],
   "source": [
    "filedata = np.loadtxt('ObsCO2.txt', skiprows=1, delimiter='\\t')\n",
    "dateCO2 = filedata[:,0]\n",
    "CO2obs = filedata[:,1]"
   ]
  },
  {
   "cell_type": "code",
   "execution_count": 16,
   "metadata": {
    "scrolled": true
   },
   "outputs": [
    {
     "name": "stdout",
     "output_type": "stream",
     "text": [
      "start date 1765.0 end date 2005.0\n"
     ]
    }
   ],
   "source": [
    "print('start date', dateCO2[0], 'end date', dateCO2[-1])"
   ]
  },
  {
   "cell_type": "markdown",
   "metadata": {},
   "source": [
    "Read in the historical and projected fossil fuel emissions"
   ]
  },
  {
   "cell_type": "code",
   "execution_count": 9,
   "metadata": {},
   "outputs": [
    {
     "name": "stdout",
     "output_type": "stream",
     "text": [
      "start date 1765.0 end date 2100.0\n"
     ]
    }
   ],
   "source": [
    "filedata = np.loadtxt('Fossilhistandrcp85.txt', skiprows=1, delimiter='\\t')\n",
    "date = filedata[:,0]\n",
    "ff = filedata[:,1]\n",
    "print('start date', date[0], 'end date', date[-1])"
   ]
  },
  {
   "cell_type": "code",
   "execution_count": 11,
   "metadata": {},
   "outputs": [
    {
     "name": "stdout",
     "output_type": "stream",
     "text": [
      "number of years 336\n"
     ]
    }
   ],
   "source": [
    "nyears = len(date)\n",
    "print('number of years', nyears)"
   ]
  },
  {
   "cell_type": "markdown",
   "metadata": {},
   "source": [
    "#### Initialize the model, this time with both Cb and Ca\n",
    "\n",
    "Assume that we started at steady state. In 1765, dC/dt = 0 = npp - rh\n",
    "\n",
    "Cb = npp*tau"
   ]
  },
  {
   "cell_type": "code",
   "execution_count": 12,
   "metadata": {},
   "outputs": [],
   "source": [
    "Cb = np.zeros(nyears)\n",
    "Ca = np.zeros(nyears)\n",
    "\n",
    "Tp = np.zeros(nyears)\n",
    "npp = np.zeros(nyears)\n",
    "rh = np.zeros(nyears)\n",
    "\n",
    "npp_initial = 50 #units PgC/yr\n",
    "taub = 20 #units years, initial turnover time for biosphere. Tweak this\n",
    "beta = 0.6 #sensitivity of NPP to CO2\n",
    "dt = 1.0 #time increment in years\n",
    "alpha = 0.0066 #K/ppm sensitivity of T to change in CO2 ppm\n",
    "ppmtoPgC = 2.1 #conversion, 1 ppm CO2 = 2.1 PgC\n",
    "\n",
    "#initial conditions\n",
    "Cb[0] = npp_initial*taub\n",
    "Ca[0] = 280*ppmtoPgC\n",
    "Tp[0] = 15.0\n",
    "npp[0] = npp_initial\n",
    "rh[0] = npp_initial"
   ]
  },
  {
   "cell_type": "markdown",
   "metadata": {},
   "source": [
    "Run the model (just the atmospheric carbon and temperature for now)"
   ]
  },
  {
   "cell_type": "code",
   "execution_count": 13,
   "metadata": {},
   "outputs": [],
   "source": [
    "for t in range(1, nyears):  #starting at 1766\n",
    "    Ca[t] = Ca[t-1] + ff[t]*dt\n",
    "    Tp[t] = Tp[0] + alpha*(Ca[t-1]-Ca[0])/ppmtoPgC\n",
    "    \n",
    "    \n",
    "CO2model = Ca/ppmtoPgC\n",
    "\n",
    "#print('Land carbon accumulation', -1*np.sum(Fland))"
   ]
  },
  {
   "cell_type": "markdown",
   "metadata": {},
   "source": [
    "Plot"
   ]
  },
  {
   "cell_type": "code",
   "execution_count": 19,
   "metadata": {},
   "outputs": [
    {
     "data": {
      "text/plain": [
       "<matplotlib.legend.Legend at 0x118245588>"
      ]
     },
     "execution_count": 19,
     "metadata": {},
     "output_type": "execute_result"
    },
    {
     "data": {
      "image/png": "[encoded data removed]",
      "text/plain": [
       "<Figure size 432x288 with 1 Axes>"
      ]
     },
     "metadata": {
      "needs_background": "light"
     },
     "output_type": "display_data"
    }
   ],
   "source": [
    "fig = py.figure(1)\n",
    "py.plot(dateCO2, CO2obs, color='black', label='Observed CO2')\n",
    "py.plot(date, CO2model, color='blue', label='Modeled CO2')\n",
    "py.xlabel('Year')\n",
    "py.ylabel('CO2 (ppm)')\n",
    "py.title('Trajectory of atmospheric CO2')\n",
    "py.legend()"
   ]
  },
  {
   "cell_type": "markdown",
   "metadata": {},
   "source": [
    "Our model doesn't include the land sink for carbon, so our observed CO2 is lower than the model"
   ]
  },
  {
   "cell_type": "code",
   "execution_count": 21,
   "metadata": {},
   "outputs": [
    {
     "data": {
      "text/plain": [
       "Text(0.5, 1.0, 'Trajectory of global temperature')"
      ]
     },
     "execution_count": 21,
     "metadata": {},
     "output_type": "execute_result"
    },
    {
     "data": {
      "image/png": "[encoded data removed]",
      "text/plain": [
       "<Figure size 432x288 with 1 Axes>"
      ]
     },
     "metadata": {
      "needs_background": "light"
     },
     "output_type": "display_data"
    }
   ],
   "source": [
    "fig = py.figure(2)\n",
    "py.plot(date, Tp, color='red', label='Modeled Temperature')\n",
    "py.xlabel('Year')\n",
    "py.ylabel('Temperature (deg C)')\n",
    "py.title('Trajectory of global temperature')"
   ]
  },
  {
   "cell_type": "markdown",
   "metadata": {},
   "source": [
    "If we didn't have sinks for carbon, warming would be 7 degrees by 2100"
   ]
  },
  {
   "cell_type": "markdown",
   "metadata": {},
   "source": [
    "### Day 2: See Python script coupledmodelv4.py\n",
    "includes coupling with ocean and land\n",
    "\n",
    "line 108: depth of ocean should be 3800"
   ]
  },
  {
   "cell_type": "code",
   "execution_count": null,
   "metadata": {},
   "outputs": [],
   "source": []
  }
 ],
 "metadata": {
  "kernelspec": {
   "display_name": "Python 3",
   "language": "python",
   "name": "python3"
  },
  "language_info": {
   "codemirror_mode": {
    "name": "ipython",
    "version": 3
   },
   "file_extension": ".py",
   "mimetype": "text/x-python",
   "name": "python",
   "nbconvert_exporter": "python",
   "pygments_lexer": "ipython3",
   "version": "3.6.6"
  }
 },
 "nbformat": 4,
 "nbformat_minor": 2
}

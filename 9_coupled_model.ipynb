{
 "cells": [
  {
   "cell_type": "markdown",
   "metadata": {},
   "source": [
    "## Week 9\n",
    "### (1) Coupled carbon model and (2) Smoothing data\n",
    "We will include land and ocean sinks and allow the rate of respiration to change with temperature"
   ]
  },
  {
   "cell_type": "markdown",
   "metadata": {},
   "source": [
    "Relevant equations from last time\n",
    "\n",
    "\\begin{equation*}\n",
    "C_b(t) = C_b(t-1) + (NPP - R_h)\n",
    "\\end{equation*}\n",
    "\n",
    "\n",
    "\\begin{equation*}\n",
    "NPP(t) = NPP(0) [ 1+\\beta \\ln \\frac {CO_2(t)}{CO_2(0)} ]\n",
    "\\end{equation*}\n",
    "\n"
   ]
  },
  {
   "cell_type": "code",
   "execution_count": null,
   "metadata": {},
   "outputs": [],
   "source": [
    "import numpy as np\n",
    "import matplotlib.pyplot as py"
   ]
  },
  {
   "cell_type": "markdown",
   "metadata": {},
   "source": [
    "Read in the historical CO2 data"
   ]
  },
  {
   "cell_type": "code",
   "execution_count": null,
   "metadata": {},
   "outputs": [],
   "source": [
    "filedata = np.loadtxt('ObsCO2.txt', skiprows=1, delimiter='\\t')\n",
    "dateCO2 = filedata[:,0]\n",
    "CO2obs = filedata[:,1]"
   ]
  },
  {
   "cell_type": "code",
   "execution_count": null,
   "metadata": {
    "scrolled": true
   },
   "outputs": [],
   "source": [
    "print('start date', dateCO2[0], 'end date', dateCO2[-1])"
   ]
  },
  {
   "cell_type": "markdown",
   "metadata": {},
   "source": [
    "Read in the historical and projected fossil fuel emissions"
   ]
  },
  {
   "cell_type": "code",
   "execution_count": null,
   "metadata": {},
   "outputs": [],
   "source": [
    "filedata = np.loadtxt('Fossilhistandrcp85.txt', skiprows=1, delimiter='\\t')\n",
    "date = filedata[:,0]\n",
    "ff = filedata[:,1]\n",
    "print('start date', date[0], 'end date', date[-1])"
   ]
  },
  {
   "cell_type": "code",
   "execution_count": null,
   "metadata": {},
   "outputs": [],
   "source": [
    "nyears = len(date)\n",
    "print('number of years', nyears)"
   ]
  },
  {
   "cell_type": "markdown",
   "metadata": {},
   "source": [
    "#### Initialize the model, this time with both Cb and Ca\n",
    "\n",
    "Assume that we started at steady state. In 1765, dC/dt = 0 = npp - rh\n",
    "\n",
    "Cb = npp*tau"
   ]
  },
  {
   "cell_type": "code",
   "execution_count": null,
   "metadata": {},
   "outputs": [],
   "source": [
    "Cb = np.zeros(nyears)\n",
    "Ca = np.zeros(nyears)\n",
    "\n",
    "Tp = np.zeros(nyears)\n",
    "npp = np.zeros(nyears)\n",
    "rh = np.zeros(nyears)\n",
    "\n",
    "npp_initial = 50 #units PgC/yr\n",
    "taub = 20 #units years, initial turnover time for biosphere. Tweak this\n",
    "beta = 0.6 #sensitivity of NPP to CO2\n",
    "dt = 1.0 #time increment in years\n",
    "alpha = 0.0066 #K/ppm sensitivity of T to change in CO2 ppm\n",
    "ppmtoPgC = 2.1 #conversion, 1 ppm CO2 = 2.1 PgC\n",
    "\n",
    "#initial conditions\n",
    "Cb[0] = npp_initial*taub\n",
    "Ca[0] = 280*ppmtoPgC\n",
    "Tp[0] = 15.0\n",
    "npp[0] = npp_initial\n",
    "rh[0] = npp_initial"
   ]
  },
  {
   "cell_type": "markdown",
   "metadata": {},
   "source": [
    "Run the model (just the atmospheric carbon and temperature for now)"
   ]
  },
  {
   "cell_type": "code",
   "execution_count": null,
   "metadata": {},
   "outputs": [],
   "source": [
    "for t in range(1, nyears):  #starting at 1766\n",
    "    Ca[t] = Ca[t-1] + ff[t]*dt\n",
    "    Tp[t] = Tp[0] + alpha*(Ca[t-1]-Ca[0])/ppmtoPgC\n",
    "    \n",
    "    \n",
    "CO2model = Ca/ppmtoPgC\n",
    "\n",
    "#print('Land carbon accumulation', -1*np.sum(Fland))"
   ]
  },
  {
   "cell_type": "markdown",
   "metadata": {},
   "source": [
    "Plot"
   ]
  },
  {
   "cell_type": "code",
   "execution_count": null,
   "metadata": {},
   "outputs": [],
   "source": [
    "fig = py.figure(1)\n",
    "py.plot(dateCO2, CO2obs, color='black', label='Observed CO2')\n",
    "py.plot(date, CO2model, color='blue', label='Modeled CO2')\n",
    "py.xlabel('Year')\n",
    "py.ylabel('CO2 (ppm)')\n",
    "py.title('Trajectory of atmospheric CO2')\n",
    "py.legend()"
   ]
  },
  {
   "cell_type": "markdown",
   "metadata": {},
   "source": [
    "Our model doesn't include the land sink for carbon, so our observed CO2 is lower than the model"
   ]
  },
  {
   "cell_type": "code",
   "execution_count": null,
   "metadata": {},
   "outputs": [],
   "source": [
    "fig = py.figure(2)\n",
    "py.plot(date, Tp, color='red', label='Modeled Temperature')\n",
    "py.xlabel('Year')\n",
    "py.ylabel('Temperature (deg C)')\n",
    "py.title('Trajectory of global temperature')"
   ]
  },
  {
   "cell_type": "markdown",
   "metadata": {},
   "source": [
    "If we didn't have sinks for carbon, warming would be 7 degrees by 2100"
   ]
  },
  {
   "cell_type": "markdown",
   "metadata": {},
   "source": [
    "### Day 2: See Python script coupledmodelv4.py\n",
    "includes coupling with ocean and land\n",
    "\n",
    "line 108: depth of ocean should be 3800"
   ]
  },
  {
   "cell_type": "markdown",
   "metadata": {},
   "source": [
    "### Day 3: Smoothing data\n",
    "Create an array with 0 through 50 (A) but with random noise added (B). Smooth B into C"
   ]
  },
  {
   "cell_type": "code",
   "execution_count": null,
   "metadata": {},
   "outputs": [],
   "source": [
    "A = np.arange(50) \n",
    "N = np.random.randn(50)\n",
    "\n",
    "B = A + N\n",
    "tile3 = np.array([1,1,1]) #having a longer tile is more smoothing\n",
    "tile3 = tile3/len(tile3)\n",
    "\n",
    "tile5 = np.array([1,1,1,1,1])\n",
    "tile5 = tile5/len(tile5)\n",
    "\n",
    "C3 = np.convolve(B, tile3, mode='valid')\n",
    "C5 = np.convolve(B, tile5, mode='valid')"
   ]
  },
  {
   "cell_type": "code",
   "execution_count": null,
   "metadata": {},
   "outputs": [],
   "source": [
    "print(len(B))\n",
    "print(len(C3)) #C is shorter - one element cut off at either end\n",
    "print(len(C5))"
   ]
  },
  {
   "cell_type": "code",
   "execution_count": null,
   "metadata": {},
   "outputs": [],
   "source": [
    "A_short = A[1:-1]\n",
    "A_shorter = A[2:-2]"
   ]
  },
  {
   "cell_type": "code",
   "execution_count": null,
   "metadata": {},
   "outputs": [],
   "source": [
    "fig = py.figure(3)\n",
    "py.plot(A, B, label='original')\n",
    "py.plot(A_short, C3, label='smoothed')\n",
    "py.plot(A_shorter, C5, label='more smoothed')\n",
    "py.legend()"
   ]
  },
  {
   "cell_type": "markdown",
   "metadata": {},
   "source": [
    "Side note: Using tile [-1, 0, 1] calculates the derivative"
   ]
  },
  {
   "cell_type": "markdown",
   "metadata": {},
   "source": [
    "Revisit the Mauna Loa dataset"
   ]
  },
  {
   "cell_type": "code",
   "execution_count": null,
   "metadata": {},
   "outputs": [],
   "source": [
    "filename = 'maunaloadata.csv'\n",
    "data = np.loadtxt(filename, skiprows=59, delimiter = ',')\n",
    "date = data[:,3] #accessing all rows and column 3\n",
    "dataCO2 = data[:,8] #accessing all rows and column 8"
   ]
  },
  {
   "cell_type": "code",
   "execution_count": null,
   "metadata": {},
   "outputs": [],
   "source": [
    "width = 61 #5 year smoothing\n",
    "tile = np.ones(width)\n",
    "tile = tile/np.sum(tile)\n",
    "\n",
    "CO2_smoothed = np.convolve(dataCO2, tile, mode='valid')\n",
    "\n",
    "crop = int((width-1)/2) #range of valid smoothed data\n",
    "date_cropped = date[crop:-crop] #cut off the unsmoothed ends"
   ]
  },
  {
   "cell_type": "code",
   "execution_count": null,
   "metadata": {},
   "outputs": [],
   "source": [
    "fig = py.figure(4)\n",
    "py.plot(date, dataCO2, label='original')\n",
    "py.plot(date_cropped, CO2_smoothed, label='5-yr smoothed')\n",
    "py.legend()"
   ]
  },
  {
   "cell_type": "markdown",
   "metadata": {},
   "source": [
    "Take derivative of smoothed line"
   ]
  },
  {
   "cell_type": "code",
   "execution_count": null,
   "metadata": {},
   "outputs": [],
   "source": [
    "dt = 1/12\n",
    "width = 3\n",
    "tile_d = np.array([1,0,-1])\n",
    "\n",
    "CO2_gr = np.convolve(CO2_smoothed, tile_d, mode='valid') #co2 growth rate\n",
    "\n",
    "crop = int((width-1)/2) #range of valid smoothed data\n",
    "date_d = date_cropped[crop:-crop] #cut off the unsmoothed ends"
   ]
  },
  {
   "cell_type": "code",
   "execution_count": null,
   "metadata": {},
   "outputs": [],
   "source": [
    "print(len(CO2_smoothed))\n",
    "print(len(date_d))"
   ]
  },
  {
   "cell_type": "code",
   "execution_count": null,
   "metadata": {},
   "outputs": [],
   "source": [
    "fig = py.figure(5)\n",
    "py.plot(CO2_gr, label='CO2 growth rate (ppm/month)')\n",
    "py.legend()"
   ]
  },
  {
   "cell_type": "markdown",
   "metadata": {},
   "source": [
    "## Week 10\n",
    "Polynomial fit on CO2 data. A 4th-degree polynomial will remove the seasonal cycle and capture most of the long-term trend. "
   ]
  },
  {
   "cell_type": "code",
   "execution_count": null,
   "metadata": {},
   "outputs": [],
   "source": [
    "fitcoeff = np.polyfit(date, dataCO2, 4)\n",
    "firstpolyf = np.poly1d(fitcoeff) #function\n",
    "firstpolyfit = firstpolyf(date)"
   ]
  },
  {
   "cell_type": "code",
   "execution_count": null,
   "metadata": {},
   "outputs": [],
   "source": [
    "fig = py.figure(6)\n",
    "py.plot(date, dataCO2, label='raw data')\n",
    "py.plot(date, firstpolyfit, label='trend')\n",
    "py.xlabel('Year')\n",
    "py.ylabel('CO2 (ppm)')\n",
    "py.title('CO2 trend')\n",
    "py.legend()"
   ]
  },
  {
   "cell_type": "markdown",
   "metadata": {},
   "source": [
    "Plot the residual after removing the long-term trend (now we're just seeing the seasonal cycle"
   ]
  },
  {
   "cell_type": "code",
   "execution_count": null,
   "metadata": {},
   "outputs": [],
   "source": [
    "residualCO2 = dataCO2 - firstpolyfit\n",
    "\n",
    "fig = py.figure(7)\n",
    "py.plot(date, residualCO2, label='residual')\n",
    "py.xlabel('Year')\n",
    "py.ylabel('CO2 (ppm)')\n",
    "py.title('CO2 residual')\n",
    "py.legend()"
   ]
  },
  {
   "cell_type": "markdown",
   "metadata": {},
   "source": [
    "Remove the seasonal cycle: calculate the mean for each month of the year"
   ]
  },
  {
   "cell_type": "code",
   "execution_count": null,
   "metadata": {},
   "outputs": [],
   "source": [
    "#start at January 1959\n",
    "residualCO2 = residualCO2[10:]\n",
    "dataCO2 = dataCO2[10:]\n",
    "date = date[10:]\n",
    "\n",
    "nmonths = 12\n",
    "nyears = int(len(residualCO2)/12)\n"
   ]
  },
  {
   "cell_type": "code",
   "execution_count": null,
   "metadata": {},
   "outputs": [],
   "source": [
    "annualcycle = np.zeros(nmonths)\n",
    "npoints = np.zeros(nmonths) #count how many of each month\n",
    "\n",
    "for t in range(nyears):\n",
    "    for i in range(nmonths):\n",
    "        annualcycle[i] = annualcycle[i] + residualCO2[t*12 + i]\n",
    "        npoints[i] = npoints[i] + 1\n",
    "\n",
    "annualcycle = annualcycle/npoints"
   ]
  },
  {
   "cell_type": "code",
   "execution_count": null,
   "metadata": {},
   "outputs": [],
   "source": [
    "fig = py.figure(8)\n",
    "py.plot(annualcycle)\n",
    "py.xlabel('Month')\n",
    "py.ylabel('CO2 (ppm)')\n",
    "py.title('CO2 annual cycle')"
   ]
  },
  {
   "cell_type": "code",
   "execution_count": null,
   "metadata": {},
   "outputs": [],
   "source": [
    "repeatcycle = np.tile(annualcycle, nyears)\n",
    "dataCO2nocycle = dataCO2 - repeatcycle"
   ]
  },
  {
   "cell_type": "code",
   "execution_count": null,
   "metadata": {},
   "outputs": [],
   "source": [
    "fig = py.figure(9)\n",
    "py.plot(date, dataCO2nocycle)\n",
    "py.xlabel('Month')\n",
    "py.ylabel('CO2 (ppm)')\n",
    "py.title('CO2 annual cycle')"
   ]
  },
  {
   "cell_type": "markdown",
   "metadata": {},
   "source": [
    "Calculate derivative"
   ]
  },
  {
   "cell_type": "code",
   "execution_count": null,
   "metadata": {},
   "outputs": [],
   "source": []
  }
 ],
 "metadata": {
  "kernelspec": {
   "display_name": "Python 3",
   "language": "python",
   "name": "python3"
  },
  "language_info": {
   "codemirror_mode": {
    "name": "ipython",
    "version": 3
   },
   "file_extension": ".py",
   "mimetype": "text/x-python",
   "name": "python",
   "nbconvert_exporter": "python",
   "pygments_lexer": "ipython3",
   "version": "3.6.6"
  }
 },
 "nbformat": 4,
 "nbformat_minor": 2
}

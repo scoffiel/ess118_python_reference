{
 "cells": [
  {
   "cell_type": "markdown",
   "metadata": {},
   "source": [
    "## Week 8\n",
    "### Building a simple biosphere carbon box model in Python\n",
    "\n",
    "(For Week 7 notes, see Prof Randerson's notes under modules 4 and 5. We looked at CMIP6 future projections and mapping with cartopy)"
   ]
  },
  {
   "cell_type": "markdown",
   "metadata": {},
   "source": [
    "Euler's method approach\n",
    "\n",
    "Cb(t) = Cb(t-1) + (NPP - Rh)"
   ]
  },
  {
   "cell_type": "code",
   "execution_count": 1,
   "metadata": {},
   "outputs": [],
   "source": [
    "import numpy as np\n",
    "import matplotlib.pyplot as py"
   ]
  },
  {
   "cell_type": "code",
   "execution_count": 17,
   "metadata": {},
   "outputs": [],
   "source": [
    "filedata = np.loadtxt('ObsCO2.txt', skiprows=1, delimiter='\\t')"
   ]
  },
  {
   "cell_type": "code",
   "execution_count": 18,
   "metadata": {},
   "outputs": [],
   "source": [
    "date = filedata[:,0]\n",
    "CO2obs = filedata[:,1]"
   ]
  },
  {
   "cell_type": "code",
   "execution_count": 21,
   "metadata": {
    "scrolled": true
   },
   "outputs": [
    {
     "name": "stdout",
     "output_type": "stream",
     "text": [
      "start date 1765.0 end date 2005.0\n"
     ]
    }
   ],
   "source": [
    "print('start date', date[0], 'end date', date[-1])"
   ]
  },
  {
   "cell_type": "markdown",
   "metadata": {},
   "source": [
    "#### Initialize the model\n",
    "\n",
    "Assume that we started at steady state. In 1765, dC/dt = 0 = npp - rh\n",
    "\n",
    "Cb = npp*tau"
   ]
  },
  {
   "cell_type": "code",
   "execution_count": 22,
   "metadata": {},
   "outputs": [],
   "source": [
    "nyears = len(date)\n",
    "\n",
    "Cb = np.zeros(nyears)\n",
    "npp = np.zeros(nyears)\n",
    "rh = np.zeros(nyears)\n",
    "\n",
    "npp_initial = 50 #units PgC/yr\n",
    "taub = 20 #units years, initial turnover time for biosphere\n",
    "beta = 0.6 #sensitivity of NPP to CO2\n",
    "\n",
    "Cb[0] = npp_initial*taub\n",
    "rh[0] = npp_initial"
   ]
  },
  {
   "cell_type": "code",
   "execution_count": 24,
   "metadata": {},
   "outputs": [],
   "source": [
    "for t in range(1, nyears):  #starting at 1766\n",
    "    npp[t] = npp[0] * (1 + beta*np.log( CO2obs[t]/CO2obs[0] ))"
   ]
  },
  {
   "cell_type": "code",
   "execution_count": null,
   "metadata": {},
   "outputs": [],
   "source": []
  },
  {
   "cell_type": "code",
   "execution_count": null,
   "metadata": {},
   "outputs": [],
   "source": []
  }
 ],
 "metadata": {
  "kernelspec": {
   "display_name": "Python 3",
   "language": "python",
   "name": "python3"
  },
  "language_info": {
   "codemirror_mode": {
    "name": "ipython",
    "version": 3
   },
   "file_extension": ".py",
   "mimetype": "text/x-python",
   "name": "python",
   "nbconvert_exporter": "python",
   "pygments_lexer": "ipython3",
   "version": "3.6.6"
  }
 },
 "nbformat": 4,
 "nbformat_minor": 2
}

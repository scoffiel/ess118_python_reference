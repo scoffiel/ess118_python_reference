{
 "cells": [
  {
   "cell_type": "markdown",
   "metadata": {},
   "source": [
    "## Week 2\n",
    "More with numpy, reading text files, building time series, reading NC files"
   ]
  },
  {
   "cell_type": "code",
   "execution_count": 2,
   "metadata": {},
   "outputs": [],
   "source": [
    "#import packages\n",
    "import numpy as np\n",
    "import matplotlib.pyplot as py"
   ]
  },
  {
   "cell_type": "markdown",
   "metadata": {},
   "source": [
    "### Numpy loadtxt\n",
    "Last week we used the built-in Python function \"open\" to read in a text file. The numpy package also has a file reading function."
   ]
  },
  {
   "cell_type": "code",
   "execution_count": 3,
   "metadata": {},
   "outputs": [
    {
     "name": "stdout",
     "output_type": "stream",
     "text": [
      "Read in the data from file maunaloadata.csv\n"
     ]
    }
   ],
   "source": [
    "filename = 'maunaloadata.csv'\n",
    "print('Read in the data from file', filename)\n",
    "data = np.loadtxt(filename, skiprows=57, delimiter = ',')"
   ]
  },
  {
   "cell_type": "code",
   "execution_count": 4,
   "metadata": {},
   "outputs": [
    {
     "data": {
      "text/plain": [
       "(732, 10)"
      ]
     },
     "execution_count": 4,
     "metadata": {},
     "output_type": "execute_result"
    }
   ],
   "source": [
    "data.shape"
   ]
  },
  {
   "cell_type": "markdown",
   "metadata": {},
   "source": [
    " We have a 2-dimensional numpy data array. 732 rows and 10 columns. Recall that we want to access the columns for date and CO2"
   ]
  },
  {
   "cell_type": "code",
   "execution_count": 5,
   "metadata": {},
   "outputs": [
    {
     "name": "stdout",
     "output_type": "stream",
     "text": [
      "[1958.0411 1958.126  1958.2027 1958.2877 1958.3699 1958.4548 1958.537\n",
      " 1958.6219 1958.7068 1958.789 ]\n",
      "[-99.99 -99.99 315.7  317.45 317.51 317.23 315.86 314.93 313.2  312.43]\n"
     ]
    }
   ],
   "source": [
    "date = data[:,3] #accessing all rows and column 3\n",
    "dataCO2 = data[:,8] #accessing all rows and column 8\n",
    "\n",
    "#print the first 10 elements of each to check that it looks correct\n",
    "print(date[:10])\n",
    "print(dataCO2[:10])"
   ]
  },
  {
   "cell_type": "markdown",
   "metadata": {},
   "source": [
    "### Plotting\n",
    "This is similar to last week but now we'll generate a subplot within the figure so we have more options"
   ]
  },
  {
   "cell_type": "code",
   "execution_count": 6,
   "metadata": {},
   "outputs": [
    {
     "data": {
      "text/plain": [
       "Text(0.5, 1.0, 'Most important global environmental plot')"
      ]
     },
     "execution_count": 6,
     "metadata": {},
     "output_type": "execute_result"
    },
    {
     "data": {
      "image/png": "[encoded data removed]",
      "text/plain": [
       "<Figure size 576x432 with 1 Axes>"
      ]
     },
     "metadata": {
      "needs_background": "light"
     },
     "output_type": "display_data"
    }
   ],
   "source": [
    "fig = py.figure(figsize=(8,6))\n",
    "myfontsize=12\n",
    "ax1 = fig.add_subplot(1,1,1) #row, column, plot number\n",
    "ax1.plot(date, dataCO2, color='blue', linewidth=2, label='Monthly CO2')\n",
    "ax1.set_xlim(1958, 2019)\n",
    "ax1.set_ylim(310, 420)\n",
    "ax1.set_ylabel('Atm CO2 (ppm)')\n",
    "ax1.set_xlabel('Year')\n",
    "ax1.legend(loc='upper left')\n",
    "ax1.tick_params(labelsize = myfontsize)\n",
    "ax1.set_title('Most important global environmental plot')\n"
   ]
  },
  {
   "cell_type": "markdown",
   "metadata": {},
   "source": [
    "### More with numpy\n",
    "#### vstack function"
   ]
  },
  {
   "cell_type": "code",
   "execution_count": 7,
   "metadata": {},
   "outputs": [],
   "source": [
    "combined = np.vstack((date, dataCO2)) #this vertically combines the 2 vectors into an array"
   ]
  },
  {
   "cell_type": "code",
   "execution_count": 8,
   "metadata": {},
   "outputs": [
    {
     "data": {
      "text/plain": [
       "(2, 732)"
      ]
     },
     "execution_count": 8,
     "metadata": {},
     "output_type": "execute_result"
    }
   ],
   "source": [
    "combined.shape"
   ]
  },
  {
   "cell_type": "markdown",
   "metadata": {},
   "source": [
    "We have 2 rows and 732 columns. We want to transpose this"
   ]
  },
  {
   "cell_type": "code",
   "execution_count": 9,
   "metadata": {},
   "outputs": [
    {
     "data": {
      "text/plain": [
       "(732, 2)"
      ]
     },
     "execution_count": 9,
     "metadata": {},
     "output_type": "execute_result"
    }
   ],
   "source": [
    "combined = combined.T\n",
    "combined.shape"
   ]
  },
  {
   "cell_type": "markdown",
   "metadata": {},
   "source": [
    "#### Defining a new array"
   ]
  },
  {
   "cell_type": "code",
   "execution_count": 10,
   "metadata": {},
   "outputs": [
    {
     "data": {
      "text/plain": [
       "array([1, 2, 3, 4])"
      ]
     },
     "execution_count": 10,
     "metadata": {},
     "output_type": "execute_result"
    }
   ],
   "source": [
    "a = np.array([1,2,3,4])\n",
    "a"
   ]
  },
  {
   "cell_type": "code",
   "execution_count": 11,
   "metadata": {},
   "outputs": [
    {
     "data": {
      "text/plain": [
       "array([ 5, 10, 15, 20])"
      ]
     },
     "execution_count": 11,
     "metadata": {},
     "output_type": "execute_result"
    }
   ],
   "source": [
    "a*5"
   ]
  },
  {
   "cell_type": "markdown",
   "metadata": {},
   "source": [
    "### Analyzing the changing amplitude of the seasonal cycle"
   ]
  },
  {
   "cell_type": "code",
   "execution_count": 12,
   "metadata": {},
   "outputs": [],
   "source": [
    "month = np.arange(1,13) #arange is \"array range\". It works like range() but for numpy arrays. "
   ]
  },
  {
   "cell_type": "code",
   "execution_count": 13,
   "metadata": {},
   "outputs": [
    {
     "name": "stdout",
     "output_type": "stream",
     "text": [
      "[ 1  2  3  4  5  6  7  8  9 10 11 12]\n"
     ]
    }
   ],
   "source": [
    "print(month)"
   ]
  },
  {
   "cell_type": "code",
   "execution_count": 14,
   "metadata": {},
   "outputs": [],
   "source": [
    "firstCO2 = dataCO2[12:24] #year 1959 is values 12 through 23\n",
    "lastCO2 = dataCO2[-12:] #the last 12 values are 2018"
   ]
  },
  {
   "cell_type": "code",
   "execution_count": 15,
   "metadata": {},
   "outputs": [
    {
     "name": "stdout",
     "output_type": "stream",
     "text": [
      "[315.58 316.48 316.65 317.72 318.29 318.15 316.54 314.8  313.84 313.33\n",
      " 314.81 315.58]\n"
     ]
    }
   ],
   "source": [
    "print(firstCO2)"
   ]
  },
  {
   "cell_type": "code",
   "execution_count": 16,
   "metadata": {},
   "outputs": [
    {
     "name": "stdout",
     "output_type": "stream",
     "text": [
      "[408.05 408.34 409.25 410.3  411.3  410.88 408.9  407.1  405.59 405.99\n",
      " 408.12 409.23]\n"
     ]
    }
   ],
   "source": [
    "print(lastCO2)"
   ]
  },
  {
   "cell_type": "code",
   "execution_count": 17,
   "metadata": {},
   "outputs": [],
   "source": [
    "firstCO2n = firstCO2 - np.mean(firstCO2) #subtract the mean\n",
    "lastCO2n = lastCO2 - np.mean(lastCO2)"
   ]
  },
  {
   "cell_type": "markdown",
   "metadata": {},
   "source": [
    "#### Repeat plotting with one line for firstCO2 and one line for lastCO2"
   ]
  },
  {
   "cell_type": "code",
   "execution_count": 18,
   "metadata": {},
   "outputs": [
    {
     "data": {
      "text/plain": [
       "Text(0.5, 1.0, 'Cycle of CO2')"
      ]
     },
     "execution_count": 18,
     "metadata": {},
     "output_type": "execute_result"
    },
    {
     "data": {
      "image/png": "[encoded data removed]",
      "text/plain": [
       "<Figure size 576x432 with 1 Axes>"
      ]
     },
     "metadata": {
      "needs_background": "light"
     },
     "output_type": "display_data"
    }
   ],
   "source": [
    "fig = py.figure(figsize=(8,6))\n",
    "myfontsize=12\n",
    "ax1 = fig.add_subplot(1,1,1)\n",
    "ax1.plot(month, firstCO2n, color='blue', linewidth=2, label='1959')\n",
    "ax1.plot(month, lastCO2n, color='red', linewidth=2, label='2018')\n",
    "ax1.set_ylim(-4, 4)\n",
    "ax1.set_ylabel('Change in atm CO2 (ppm)')\n",
    "ax1.set_xlabel('Month')\n",
    "ax1.legend(loc='upper left')\n",
    "ax1.tick_params(labelsize = myfontsize)\n",
    "ax1.set_title('Cycle of CO2')"
   ]
  },
  {
   "cell_type": "code",
   "execution_count": null,
   "metadata": {},
   "outputs": [],
   "source": []
  },
  {
   "cell_type": "markdown",
   "metadata": {},
   "source": [
    "### Working with NC files"
   ]
  },
  {
   "cell_type": "markdown",
   "metadata": {},
   "source": [
    "Run the following lines in your Anaconda Prompt (Windows) or Terminal (Mac). We will be using the xarray package\n",
    "\n",
    "conda install xarray dask netCDF4 bottleneck\n",
    "\n",
    "conda install -c conda-forge xarray cartopy pynio pseudonetcdf"
   ]
  },
  {
   "cell_type": "code",
   "execution_count": 19,
   "metadata": {},
   "outputs": [],
   "source": [
    "import xarray"
   ]
  },
  {
   "cell_type": "code",
   "execution_count": 20,
   "metadata": {},
   "outputs": [],
   "source": [
    "filename = 'precipdata.nc'\n",
    "file = xarray.open_dataset(filename)"
   ]
  },
  {
   "cell_type": "code",
   "execution_count": 21,
   "metadata": {},
   "outputs": [
    {
     "data": {
      "text/plain": [
       "<xarray.Dataset>\n",
       "Dimensions:    (lat: 72, lon: 144, nv: 2, time: 452)\n",
       "Coordinates:\n",
       "  * lat        (lat) float32 -88.75 -86.25 -83.75 -81.25 ... 83.75 86.25 88.75\n",
       "  * lon        (lon) float32 1.25 3.75 6.25 8.75 ... 351.25 353.75 356.25 358.75\n",
       "  * time       (time) datetime64[ns] 1979-01-01 1979-02-01 ... 2016-08-01\n",
       "Dimensions without coordinates: nv\n",
       "Data variables:\n",
       "    time_bnds  (time, nv) datetime64[ns] ...\n",
       "    lat_bnds   (lat, nv) float32 ...\n",
       "    lon_bnds   (lon, nv) float32 ...\n",
       "    precip     (time, lat, lon) float32 ...\n",
       "Attributes:\n",
       "    Conventions:           CF-1.0\n",
       "    curator:               Dr. Jian-Jian Wang\\nESSIC, University of Maryland ...\n",
       "    description:           http://eagle1.umd.edu/GPCP_ICDR/GPCPmonthlyV2.3.pdf\n",
       "    citation:              Adler, R.F., G.J. Huffman, A. Chang, R. Ferraro, P...\n",
       "    title:                 GPCP Version 2.3 Combined Precipitation Dataset (F...\n",
       "    platform:              NOAA POES (Polar Orbiting Environmental Satellites)\n",
       "    source_obs:            CDR RSS SSMI/SSMIS Tbs over ocean \\nCDR SSMI/SSMIS...\n",
       "    source:                http://eagle1.umd.edu/GPCP_CDR/Monthly_Data\n",
       "    source_documentation:  http://eagle1.umd.edu/GPCP_ICDR/\n",
       "    version:               V2.3\n",
       "    Acknowledgement:       \\n\n",
       "    contributor_name:      Robert Adler    University of Maryland \\nGeorge Hu...\n",
       "    history:               Generated at NOAA/ESRL PSD Sep 9 2016 based on dat...\n",
       "    dataset_title:         Global Precipitation Climatology Project (GPCP) Mo...\n",
       "    documentation:         https://www.esrl.noaa.gov/psd/data/gridded/data.gp...\n",
       "    References:            https://www.esrl.noaa.gov/psd/data/gridded/data.gp..."
      ]
     },
     "execution_count": 21,
     "metadata": {},
     "output_type": "execute_result"
    }
   ],
   "source": [
    "file"
   ]
  },
  {
   "cell_type": "markdown",
   "metadata": {},
   "source": [
    "### Functions\n",
    "Functions are a bundle of instructions, placed at the top of a script. They are useful if you want to use a few lines repeatedly"
   ]
  },
  {
   "cell_type": "code",
   "execution_count": 22,
   "metadata": {},
   "outputs": [],
   "source": [
    "def sumnum(a, b):\n",
    "    c = a + b\n",
    "    return c"
   ]
  },
  {
   "cell_type": "markdown",
   "metadata": {},
   "source": [
    "We just defined a function called sumnum which adds 2 numbers and returns the sum"
   ]
  },
  {
   "cell_type": "code",
   "execution_count": 23,
   "metadata": {},
   "outputs": [
    {
     "name": "stdout",
     "output_type": "stream",
     "text": [
      "12\n"
     ]
    }
   ],
   "source": [
    "d = 5\n",
    "e = 7\n",
    "f = sumnum(d, e)\n",
    "print(f)"
   ]
  },
  {
   "cell_type": "markdown",
   "metadata": {},
   "source": [
    "Let's practice by writing a function that calculates a mean. Instead of using np.mean(), write a for loop to add all the numbers in an array together and divide by the number of elements. "
   ]
  },
  {
   "cell_type": "code",
   "execution_count": 24,
   "metadata": {},
   "outputs": [],
   "source": [
    "def meannum(a): #\"a\" is a placeholder. It is defined only within the function and doesn't need to exist elsewhere\n",
    "    total = 0\n",
    "    for element in a:\n",
    "        total = total + element\n",
    "    return total/len(a)\n"
   ]
  },
  {
   "cell_type": "code",
   "execution_count": 25,
   "metadata": {},
   "outputs": [
    {
     "name": "stdout",
     "output_type": "stream",
     "text": [
      "0.023183152604940357\n",
      "0.023183152604940402\n"
     ]
    }
   ],
   "source": [
    "rannum = np.random.randn(1000) #1000 random numbers from a normal distribution\n",
    "print (np.mean(rannum))\n",
    "print (meannum(rannum)) #make sure they're equivalent\n"
   ]
  },
  {
   "cell_type": "markdown",
   "metadata": {},
   "source": [
    "### A side note on loops\n",
    "There are 2 ways of thinking when writing loops. The first is the traditional way of accessing the \"index space\" of a list or array. You iterate over all the incides (0 up through the length of the array) and access array[i] for each:"
   ]
  },
  {
   "cell_type": "code",
   "execution_count": 28,
   "metadata": {},
   "outputs": [
    {
     "name": "stdout",
     "output_type": "stream",
     "text": [
      "\t 0 1\n",
      "\t 1 2\n",
      "\t 2 3\n",
      "\t 3 4\n",
      "\t 4 5\n"
     ]
    }
   ],
   "source": [
    "a = np.array([1,2,3,4,5])\n",
    "lena = len(a)\n",
    "for i in range(lena):\n",
    "    print('\\t', i, a[i])"
   ]
  },
  {
   "cell_type": "markdown",
   "metadata": {
    "collapsed": true
   },
   "source": [
    "The second is the more \"Pythonic\" way, of accessing the elements directly. You don't use \"range\" or \"len\""
   ]
  },
  {
   "cell_type": "code",
   "execution_count": 29,
   "metadata": {},
   "outputs": [
    {
     "name": "stdout",
     "output_type": "stream",
     "text": [
      "1\n",
      "2\n",
      "3\n",
      "4\n",
      "5\n"
     ]
    }
   ],
   "source": [
    "for i in a:\n",
    "    print(i)\n",
    "    "
   ]
  },
  {
   "cell_type": "markdown",
   "metadata": {},
   "source": [
    "Notice that it printed the array elements directly and never used their indices. a[i] does not exist"
   ]
  },
  {
   "cell_type": "code",
   "execution_count": null,
   "metadata": {},
   "outputs": [],
   "source": []
  }
 ],
 "metadata": {
  "kernelspec": {
   "display_name": "Python 3",
   "language": "python",
   "name": "python3"
  },
  "language_info": {
   "codemirror_mode": {
    "name": "ipython",
    "version": 3
   },
   "file_extension": ".py",
   "mimetype": "text/x-python",
   "name": "python",
   "nbconvert_exporter": "python",
   "pygments_lexer": "ipython3",
   "version": "3.6.6"
  }
 },
 "nbformat": 4,
 "nbformat_minor": 2
}

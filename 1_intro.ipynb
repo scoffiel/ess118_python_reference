{
 "cells": [
  {
   "cell_type": "markdown",
   "metadata": {},
   "source": [
    "# Wk 1: Intro to Python\n",
    "Week 1 we cover the basics of Python, including variable assignment, for loops, file reading/writing, and plotting. Download this notebook to your computer to interact with it in Anaconda Jupyter\n",
    "\n",
    "### Python vs. MATLAB\n",
    "Most of you have some experience with MATLAB, so I want to point out a few key differences\n",
    "-  Indexing starts at 0 in Python, not 1\n",
    "-  Python is FREE and open source. We can access and install packages that others have shared. \n",
    "-  Indentation matters in Python. It indicates the contents of a loop. This means you don't need \"end\" statements like in MATLAB\n",
    "-  Use # to make a comment instead of %\n",
    "\n",
    "See this link for a useful side-by-side of some of the basics http://reactorlab.net/resources-folder/matlab/P_to_M.html\n"
   ]
  },
  {
   "cell_type": "markdown",
   "metadata": {},
   "source": [
    "### Print statements\n",
    "Use \"print\" in a script if you want to display something as output."
   ]
  },
  {
   "cell_type": "code",
   "execution_count": 20,
   "metadata": {},
   "outputs": [
    {
     "name": "stdout",
     "output_type": "stream",
     "text": [
      "Hello World\n",
      "Hello World\n",
      "Hello World\n"
     ]
    }
   ],
   "source": [
    "#all the same\n",
    "print('Hello World')\n",
    "print(\"Hello World\")\n",
    "print ('Hello World')"
   ]
  },
  {
   "cell_type": "code",
   "execution_count": 21,
   "metadata": {},
   "outputs": [
    {
     "name": "stdout",
     "output_type": "stream",
     "text": [
      "Hello World 5 6 7 8\n"
     ]
    }
   ],
   "source": [
    "print('Hello World', 5,6,7,8)"
   ]
  },
  {
   "cell_type": "markdown",
   "metadata": {},
   "source": [
    "Each print statement starts a new line. You can also use special characters in strings like \\n or \\t to make spacing"
   ]
  },
  {
   "cell_type": "code",
   "execution_count": 22,
   "metadata": {},
   "outputs": [
    {
     "name": "stdout",
     "output_type": "stream",
     "text": [
      "Line 1\n",
      "\n",
      "Line 2\n",
      "\tLine 3\n",
      "\tLine 4\n"
     ]
    }
   ],
   "source": [
    "print('Line 1')\n",
    "print('\\nLine 2') #add a space between lines\n",
    "print('\\tLine 3') #tab\n",
    "print('\\tLine 4')"
   ]
  },
  {
   "cell_type": "markdown",
   "metadata": {},
   "source": [
    "### Variable assignment and types"
   ]
  },
  {
   "cell_type": "code",
   "execution_count": 23,
   "metadata": {},
   "outputs": [
    {
     "data": {
      "text/plain": [
       "7"
      ]
     },
     "execution_count": 23,
     "metadata": {},
     "output_type": "execute_result"
    }
   ],
   "source": [
    "a = 3\n",
    "b = 4\n",
    "\n",
    "a+b"
   ]
  },
  {
   "cell_type": "code",
   "execution_count": 24,
   "metadata": {},
   "outputs": [
    {
     "data": {
      "text/plain": [
       "0.75"
      ]
     },
     "execution_count": 24,
     "metadata": {},
     "output_type": "execute_result"
    }
   ],
   "source": [
    "a/b"
   ]
  },
  {
   "cell_type": "code",
   "execution_count": 25,
   "metadata": {},
   "outputs": [
    {
     "data": {
      "text/plain": [
       "int"
      ]
     },
     "execution_count": 25,
     "metadata": {},
     "output_type": "execute_result"
    }
   ],
   "source": [
    "type(a)\n",
    "\n",
    "#Python assumes the type of a variable (i.e., integer, string, float, list, etc)"
   ]
  },
  {
   "cell_type": "code",
   "execution_count": 26,
   "metadata": {},
   "outputs": [
    {
     "data": {
      "text/plain": [
       "float"
      ]
     },
     "execution_count": 26,
     "metadata": {},
     "output_type": "execute_result"
    }
   ],
   "source": [
    "c = 3.0\n",
    "type(c)"
   ]
  },
  {
   "cell_type": "code",
   "execution_count": 27,
   "metadata": {},
   "outputs": [
    {
     "data": {
      "text/plain": [
       "6.0"
      ]
     },
     "execution_count": 27,
     "metadata": {},
     "output_type": "execute_result"
    }
   ],
   "source": [
    "a+c"
   ]
  },
  {
   "cell_type": "code",
   "execution_count": 28,
   "metadata": {},
   "outputs": [
    {
     "data": {
      "text/plain": [
       "str"
      ]
     },
     "execution_count": 28,
     "metadata": {},
     "output_type": "execute_result"
    }
   ],
   "source": [
    "d = \"hello\"\n",
    "type(d)"
   ]
  },
  {
   "cell_type": "code",
   "execution_count": 29,
   "metadata": {},
   "outputs": [
    {
     "data": {
      "text/plain": [
       "3"
      ]
     },
     "execution_count": 29,
     "metadata": {},
     "output_type": "execute_result"
    }
   ],
   "source": [
    "#you can force a variable to be a certain type by typecasting. Let's change c to an integer\n",
    "c = int(c)\n",
    "c"
   ]
  },
  {
   "cell_type": "code",
   "execution_count": 30,
   "metadata": {},
   "outputs": [
    {
     "data": {
      "text/plain": [
       "'3'"
      ]
     },
     "execution_count": 30,
     "metadata": {},
     "output_type": "execute_result"
    }
   ],
   "source": [
    "str(c)"
   ]
  },
  {
   "cell_type": "markdown",
   "metadata": {},
   "source": [
    "### Prompting user for input"
   ]
  },
  {
   "cell_type": "code",
   "execution_count": 31,
   "metadata": {},
   "outputs": [
    {
     "name": "stdout",
     "output_type": "stream",
     "text": [
      "What is your name? Shane\n"
     ]
    }
   ],
   "source": [
    "myinput = input('What is your name? ')"
   ]
  },
  {
   "cell_type": "code",
   "execution_count": 32,
   "metadata": {},
   "outputs": [
    {
     "name": "stdout",
     "output_type": "stream",
     "text": [
      "Shane\n"
     ]
    }
   ],
   "source": [
    "print(myinput)"
   ]
  },
  {
   "cell_type": "markdown",
   "metadata": {},
   "source": [
    "### Indexing\n",
    "You can index any iterable variable using [ ]. \"Iterables\" include strings, lists, and ranges"
   ]
  },
  {
   "cell_type": "code",
   "execution_count": 33,
   "metadata": {},
   "outputs": [
    {
     "name": "stdout",
     "output_type": "stream",
     "text": [
      "S\n",
      "h\n",
      "a\n",
      "e\n",
      "ha\n"
     ]
    }
   ],
   "source": [
    "name = 'Shane'\n",
    "print(name[0]) #first element\n",
    "print(name[1])\n",
    "print(name[2])\n",
    "print(name[-1]) #last element\n",
    "print(name[1:3]) #element 1 up to (but not including) element 3"
   ]
  },
  {
   "cell_type": "code",
   "execution_count": 34,
   "metadata": {},
   "outputs": [
    {
     "name": "stdout",
     "output_type": "stream",
     "text": [
      "<class 'list'>\n",
      "2\n"
     ]
    }
   ],
   "source": [
    "mylist = [1,2,3,4,5]\n",
    "print(type(mylist))\n",
    "print(mylist[1])"
   ]
  },
  {
   "cell_type": "code",
   "execution_count": 35,
   "metadata": {},
   "outputs": [
    {
     "name": "stdout",
     "output_type": "stream",
     "text": [
      "[1, 'Shane', 5.0]\n"
     ]
    }
   ],
   "source": [
    "#lists can hold anything\n",
    "mylist = [1, 'Shane', 5.0]\n",
    "print(mylist)"
   ]
  },
  {
   "cell_type": "markdown",
   "metadata": {},
   "source": [
    "### Loops and ranges\n",
    "This is a really critical concept for you to understand early in the course!\n",
    "Loops allow you to iterate over a chunk of code, executing it repeatedly. This is useful if you want to make the same thing happen many times, or if you want to make the same change to many elements/variables. A \"for loop\" is the most common kind of loop."
   ]
  },
  {
   "cell_type": "code",
   "execution_count": 36,
   "metadata": {},
   "outputs": [
    {
     "name": "stdout",
     "output_type": "stream",
     "text": [
      "Hello\n",
      "Hello\n",
      "Hello\n",
      "Hello\n",
      "Hello\n"
     ]
    }
   ],
   "source": [
    "for i in range(5):\n",
    "    print('Hello')"
   ]
  },
  {
   "cell_type": "markdown",
   "metadata": {},
   "source": [
    "This printed 'Hello' 5 times, unsurprisingly. We commonly use \"i\" in loops because it stands for \"index\", but any name will work. In this case, the variable \"i\" started at 0 and increased by 1 up until 4. A \"range\" is an iterable, like a list. range(5) contains the numbers 0 through 4. Let's do the same thing again but print \"i\" so you can see what's happening. "
   ]
  },
  {
   "cell_type": "code",
   "execution_count": 37,
   "metadata": {},
   "outputs": [
    {
     "name": "stdout",
     "output_type": "stream",
     "text": [
      "0 Hello\n",
      "1 Hello\n",
      "2 Hello\n",
      "3 Hello\n",
      "4 Hello\n"
     ]
    }
   ],
   "source": [
    "for i in range(5):\n",
    "    print(i, 'Hello')"
   ]
  },
  {
   "cell_type": "markdown",
   "metadata": {},
   "source": [
    "You can define a range with up to 3 parameters: the start number (inclusive), the end number (exclusive, required), and how much to increment by. See a few examples below"
   ]
  },
  {
   "cell_type": "code",
   "execution_count": 38,
   "metadata": {},
   "outputs": [
    {
     "name": "stdout",
     "output_type": "stream",
     "text": [
      "1\n",
      "3\n",
      "5\n",
      "7\n",
      "9\n"
     ]
    }
   ],
   "source": [
    "for i in range(1, 10, 2):\n",
    "    print(i)"
   ]
  },
  {
   "cell_type": "code",
   "execution_count": 39,
   "metadata": {},
   "outputs": [
    {
     "name": "stdout",
     "output_type": "stream",
     "text": [
      "5\n",
      "15\n",
      "25\n",
      "35\n",
      "45\n"
     ]
    }
   ],
   "source": [
    "for i in range(5, 50, 10):\n",
    "    print(i)"
   ]
  },
  {
   "cell_type": "code",
   "execution_count": 40,
   "metadata": {},
   "outputs": [
    {
     "name": "stdout",
     "output_type": "stream",
     "text": [
      "6\n",
      "7\n",
      "8\n",
      "9\n",
      "10\n"
     ]
    }
   ],
   "source": [
    "for i in range(6, 11):\n",
    "    print(i)"
   ]
  },
  {
   "cell_type": "markdown",
   "metadata": {},
   "source": [
    "We can also setup a loop without using a range"
   ]
  },
  {
   "cell_type": "code",
   "execution_count": 41,
   "metadata": {},
   "outputs": [
    {
     "name": "stdout",
     "output_type": "stream",
     "text": [
      "5\n",
      "6\n",
      "7\n",
      "8\n"
     ]
    }
   ],
   "source": [
    "mylist = [5,6,7,8]\n",
    "for element in mylist:\n",
    "    print(element)"
   ]
  },
  {
   "cell_type": "code",
   "execution_count": 42,
   "metadata": {},
   "outputs": [
    {
     "name": "stdout",
     "output_type": "stream",
     "text": [
      "10\n",
      "11\n",
      "12\n",
      "13\n"
     ]
    }
   ],
   "source": [
    "for element in mylist:\n",
    "    print(element + 5)"
   ]
  },
  {
   "cell_type": "code",
   "execution_count": 43,
   "metadata": {},
   "outputs": [
    {
     "name": "stdout",
     "output_type": "stream",
     "text": [
      "[5, 6, 7, 8]\n"
     ]
    }
   ],
   "source": [
    "print(mylist)"
   ]
  },
  {
   "cell_type": "markdown",
   "metadata": {},
   "source": [
    "Important: Note that the loop did not change the elements of mylist. If you want to make changes to a list, you need to access the \"index space\". Let's explore that below."
   ]
  },
  {
   "cell_type": "code",
   "execution_count": 44,
   "metadata": {},
   "outputs": [
    {
     "name": "stdout",
     "output_type": "stream",
     "text": [
      "0 5\n",
      "1 6\n",
      "2 7\n",
      "3 8\n"
     ]
    }
   ],
   "source": [
    "for i in range(len(mylist)):\n",
    "    print(i, mylist[i])"
   ]
  },
  {
   "cell_type": "code",
   "execution_count": 45,
   "metadata": {},
   "outputs": [
    {
     "name": "stdout",
     "output_type": "stream",
     "text": [
      "[8, 9, 10, 11]\n"
     ]
    }
   ],
   "source": [
    "for i in range(len(mylist)):\n",
    "    mylist[i] = mylist[i] + 3\n",
    "\n",
    "print(mylist)"
   ]
  },
  {
   "cell_type": "markdown",
   "metadata": {},
   "source": [
    "We just overwrote each element in the list as itself + 3. Use the space below or your Spyder iPython console to experiment with loops, lists, and ranges"
   ]
  },
  {
   "cell_type": "code",
   "execution_count": null,
   "metadata": {},
   "outputs": [],
   "source": []
  },
  {
   "cell_type": "markdown",
   "metadata": {},
   "source": [
    "### Working with strings: split and format"
   ]
  },
  {
   "cell_type": "code",
   "execution_count": 46,
   "metadata": {},
   "outputs": [
    {
     "name": "stdout",
     "output_type": "stream",
     "text": [
      "['apples', 'pears', 'bananas']\n"
     ]
    }
   ],
   "source": [
    "allfruit = 'apples,pears,bananas'\n",
    "names = allfruit.split(',') #split is a function for strings. We're telling it to split at the commas\n",
    "print(names)"
   ]
  },
  {
   "cell_type": "markdown",
   "metadata": {},
   "source": [
    "If you want to combine words and numbers, either for printing to the screen or writing to a file, use string formatting. The { } serve as placeholders for where you want the ints or floats to go"
   ]
  },
  {
   "cell_type": "code",
   "execution_count": 47,
   "metadata": {},
   "outputs": [
    {
     "name": "stdout",
     "output_type": "stream",
     "text": [
      "The temperature is 70 degrees F or 21.11111111111111 degrees C\n"
     ]
    }
   ],
   "source": [
    "temperature_f = 70\n",
    "temperature_c = (temperature_f - 32) * 5/9\n",
    "\n",
    "print('The temperature is {} degrees F or {} degrees C'.format(temperature_f, temperature_c))"
   ]
  },
  {
   "cell_type": "markdown",
   "metadata": {},
   "source": [
    "We can put information inside the { } to describe how to format the number (like how many decimal places)"
   ]
  },
  {
   "cell_type": "code",
   "execution_count": 48,
   "metadata": {},
   "outputs": [
    {
     "name": "stdout",
     "output_type": "stream",
     "text": [
      "The temperature is 70 degrees F or 21.1 degrees C\n"
     ]
    }
   ],
   "source": [
    "print('The temperature is {} degrees F or {:.1f} degrees C'.format(temperature_f, temperature_c))"
   ]
  },
  {
   "cell_type": "markdown",
   "metadata": {},
   "source": [
    "### More on lists"
   ]
  },
  {
   "cell_type": "markdown",
   "metadata": {},
   "source": [
    "Lists can hold any type or mixed types. They're defined with square brackets [ ] and elements are separated by commas"
   ]
  },
  {
   "cell_type": "code",
   "execution_count": 49,
   "metadata": {},
   "outputs": [],
   "source": [
    "names = ['apples','pears','bananas']"
   ]
  },
  {
   "cell_type": "markdown",
   "metadata": {},
   "source": [
    "Pop is a function for lists, just like split was a function for strings. Pop removes elements from a list. By default (if you put no argument into the parentheses), it removes the last element. "
   ]
  },
  {
   "cell_type": "code",
   "execution_count": 50,
   "metadata": {},
   "outputs": [
    {
     "data": {
      "text/plain": [
       "'bananas'"
      ]
     },
     "execution_count": 50,
     "metadata": {},
     "output_type": "execute_result"
    }
   ],
   "source": [
    "names.pop()"
   ]
  },
  {
   "cell_type": "code",
   "execution_count": 51,
   "metadata": {},
   "outputs": [
    {
     "data": {
      "text/plain": [
       "['apples', 'pears']"
      ]
     },
     "execution_count": 51,
     "metadata": {},
     "output_type": "execute_result"
    }
   ],
   "source": [
    "names #popped off 'bananas'. Names was changed."
   ]
  },
  {
   "cell_type": "code",
   "execution_count": 52,
   "metadata": {},
   "outputs": [
    {
     "data": {
      "text/plain": [
       "'apples'"
      ]
     },
     "execution_count": 52,
     "metadata": {},
     "output_type": "execute_result"
    }
   ],
   "source": [
    "names.pop(0) #you can also specify which element to remove"
   ]
  },
  {
   "cell_type": "code",
   "execution_count": 53,
   "metadata": {},
   "outputs": [
    {
     "data": {
      "text/plain": [
       "['pears']"
      ]
     },
     "execution_count": 53,
     "metadata": {},
     "output_type": "execute_result"
    }
   ],
   "source": [
    "names #now names just has the middle element left. "
   ]
  },
  {
   "cell_type": "markdown",
   "metadata": {},
   "source": [
    "### Writing to a file"
   ]
  },
  {
   "cell_type": "code",
   "execution_count": 54,
   "metadata": {},
   "outputs": [],
   "source": [
    "mydata = [10,11,12,13,14,15]\n",
    "f = open('mydata.txt', 'w') #w for write. This is saved wherever your current path is in Spyder, unless you specify otherwise\n",
    "f.write('These are my very important data\\n') #contents of the txt file\n",
    "for i in range(len(mydata)):\n",
    "    datastring = '{}, {}\\n'.format(i, mydata[i]) #curly brackets are placeholders for the ints or floats\n",
    "    f.write(datastring)\n",
    "f.close()\n",
    "\n",
    "#in the curly brackets you can specify d for int or f for float\n"
   ]
  },
  {
   "cell_type": "markdown",
   "metadata": {},
   "source": [
    "### Reading in from a file: Mauna Loa example"
   ]
  },
  {
   "cell_type": "code",
   "execution_count": 55,
   "metadata": {},
   "outputs": [
    {
     "name": "stdout",
     "output_type": "stream",
     "text": [
      "The number of months in the dataset is 732\n",
      "0 1958.0411 -99.99\n",
      "1 1958.126 -99.99\n",
      "2 1958.2027 315.7\n",
      "3 1958.2877 317.45\n",
      "4 1958.3699 317.51\n",
      "5 1958.4548 317.23\n",
      "6 1958.537 315.86\n",
      "7 1958.6219 314.93\n",
      "8 1958.7068 313.2\n",
      "9 1958.789 312.43\n",
      "10 1958.874 313.33\n",
      "11 1958.9562 314.67\n",
      "12 1959.0411 315.58\n",
      "13 1959.126 316.48\n",
      "14 1959.2027 316.65\n",
      "15 1959.2877 317.72\n",
      "16 1959.3699 318.29\n",
      "17 1959.4548 318.15\n",
      "18 1959.537 316.54\n",
      "19 1959.6219 314.8\n",
      "20 1959.7068 313.84\n",
      "21 1959.789 313.33\n",
      "22 1959.874 314.81\n",
      "23 1959.9562 315.58\n",
      "24 1960.041 316.43\n",
      "25 1960.1257 316.98\n",
      "26 1960.2049 317.58\n",
      "27 1960.2896 319.03\n",
      "28 1960.3716 320.04\n",
      "29 1960.4563 319.59\n",
      "30 1960.5383 318.18\n",
      "31 1960.623 315.9\n",
      "32 1960.7077 314.17\n",
      "33 1960.7896 313.83\n",
      "34 1960.8743 315.0\n",
      "35 1960.9563 316.19\n",
      "36 1961.0411 316.9\n",
      "37 1961.126 317.7\n",
      "38 1961.2027 318.54\n",
      "39 1961.2877 319.48\n",
      "40 1961.3699 320.58\n",
      "41 1961.4548 319.77\n",
      "42 1961.537 318.57\n",
      "43 1961.6219 316.79\n",
      "44 1961.7068 314.99\n",
      "45 1961.789 315.31\n",
      "46 1961.874 316.1\n",
      "47 1961.9562 317.01\n",
      "48 1962.0411 317.94\n",
      "49 1962.126 318.55\n",
      "50 1962.2027 319.68\n",
      "51 1962.2877 320.57\n",
      "52 1962.3699 321.02\n",
      "53 1962.4548 320.62\n",
      "54 1962.537 319.61\n",
      "55 1962.6219 317.4\n",
      "56 1962.7068 316.25\n",
      "57 1962.789 315.42\n",
      "58 1962.874 316.69\n",
      "59 1962.9562 317.7\n",
      "60 1963.0411 318.74\n",
      "61 1963.126 319.07\n",
      "62 1963.2027 319.86\n",
      "63 1963.2877 321.38\n",
      "64 1963.3699 322.25\n",
      "65 1963.4548 321.48\n",
      "66 1963.537 319.74\n",
      "67 1963.6219 317.77\n",
      "68 1963.7068 316.21\n",
      "69 1963.789 315.99\n",
      "70 1963.874 317.07\n",
      "71 1963.9562 318.35\n",
      "72 1964.041 319.57\n",
      "73 1964.1257 319.99\n",
      "74 1964.2049 320.75\n",
      "75 1964.2896 321.84\n",
      "76 1964.3716 322.26\n",
      "77 1964.4563 321.89\n",
      "78 1964.5383 320.44\n",
      "79 1964.623 318.69\n",
      "80 1964.7077 316.7\n",
      "81 1964.7896 316.87\n",
      "82 1964.8743 317.68\n",
      "83 1964.9563 318.71\n",
      "84 1965.0411 319.44\n",
      "85 1965.126 320.44\n",
      "86 1965.2027 320.89\n",
      "87 1965.2877 322.14\n",
      "88 1965.3699 322.17\n",
      "89 1965.4548 321.87\n",
      "90 1965.537 321.21\n",
      "91 1965.6219 318.87\n",
      "92 1965.7068 317.81\n",
      "93 1965.789 317.3\n",
      "94 1965.874 318.87\n",
      "95 1965.9562 319.42\n",
      "96 1966.0411 320.62\n",
      "97 1966.126 321.59\n",
      "98 1966.2027 322.39\n",
      "99 1966.2877 323.7\n",
      "100 1966.3699 324.08\n",
      "101 1966.4548 323.75\n",
      "102 1966.537 322.38\n",
      "103 1966.6219 320.36\n",
      "104 1966.7068 318.64\n",
      "105 1966.789 318.1\n",
      "106 1966.874 319.78\n",
      "107 1966.9562 321.03\n",
      "108 1967.0411 322.33\n",
      "109 1967.126 322.5\n",
      "110 1967.2027 323.04\n",
      "111 1967.2877 324.42\n",
      "112 1967.3699 325.0\n",
      "113 1967.4548 324.09\n",
      "114 1967.537 322.54\n",
      "115 1967.6219 320.92\n",
      "116 1967.7068 319.25\n",
      "117 1967.789 319.39\n",
      "118 1967.874 320.73\n",
      "119 1967.9562 321.96\n",
      "120 1968.041 322.57\n",
      "121 1968.1257 323.15\n",
      "122 1968.2049 323.89\n",
      "123 1968.2896 325.02\n",
      "124 1968.3716 325.57\n",
      "125 1968.4563 325.36\n",
      "126 1968.5383 324.14\n",
      "127 1968.623 322.11\n",
      "128 1968.7077 320.33\n",
      "129 1968.7896 320.25\n",
      "130 1968.8743 321.32\n",
      "131 1968.9563 322.9\n",
      "132 1969.0411 324.0\n",
      "133 1969.126 324.42\n",
      "134 1969.2027 325.63\n",
      "135 1969.2877 326.66\n",
      "136 1969.3699 327.38\n",
      "137 1969.4548 326.71\n",
      "138 1969.537 325.88\n",
      "139 1969.6219 323.66\n",
      "140 1969.7068 322.38\n",
      "141 1969.789 321.78\n",
      "142 1969.874 322.85\n",
      "143 1969.9562 324.12\n",
      "144 1970.0411 325.06\n",
      "145 1970.126 325.98\n",
      "146 1970.2027 326.93\n",
      "147 1970.2877 328.14\n",
      "148 1970.3699 328.08\n",
      "149 1970.4548 327.67\n",
      "150 1970.537 326.34\n",
      "151 1970.6219 324.69\n",
      "152 1970.7068 323.1\n",
      "153 1970.789 323.06\n",
      "154 1970.874 324.01\n",
      "155 1970.9562 325.13\n",
      "156 1971.0411 326.17\n",
      "157 1971.126 326.68\n",
      "158 1971.2027 327.17\n",
      "159 1971.2877 327.79\n",
      "160 1971.3699 328.92\n",
      "161 1971.4548 328.57\n",
      "162 1971.537 327.36\n",
      "163 1971.6219 325.43\n",
      "164 1971.7068 323.36\n",
      "165 1971.789 323.56\n",
      "166 1971.874 324.8\n",
      "167 1971.9562 326.01\n",
      "168 1972.041 326.77\n",
      "169 1972.1257 327.63\n",
      "170 1972.2049 327.75\n",
      "171 1972.2896 329.73\n",
      "172 1972.3716 330.07\n",
      "173 1972.4563 329.09\n",
      "174 1972.5383 328.04\n",
      "175 1972.623 326.32\n",
      "176 1972.7077 324.84\n",
      "177 1972.7896 325.2\n",
      "178 1972.8743 326.5\n",
      "179 1972.9563 327.55\n",
      "180 1973.0411 328.55\n",
      "181 1973.126 329.56\n",
      "182 1973.2027 330.3\n",
      "183 1973.2877 331.5\n",
      "184 1973.3699 332.48\n",
      "185 1973.4548 332.07\n",
      "186 1973.537 330.87\n",
      "187 1973.6219 329.31\n",
      "188 1973.7068 327.51\n",
      "189 1973.789 327.18\n",
      "190 1973.874 328.16\n",
      "191 1973.9562 328.64\n",
      "192 1974.0411 329.35\n",
      "193 1974.126 330.71\n",
      "194 1974.2027 331.48\n",
      "195 1974.2877 332.65\n",
      "196 1974.3699 333.09\n",
      "197 1974.4548 332.25\n",
      "198 1974.537 331.18\n",
      "199 1974.6219 329.39\n",
      "200 1974.7068 327.43\n",
      "201 1974.789 327.37\n",
      "202 1974.874 328.46\n",
      "203 1974.9562 329.57\n",
      "204 1975.0411 330.4\n",
      "205 1975.126 331.4\n",
      "206 1975.2027 332.04\n",
      "207 1975.2877 333.31\n",
      "208 1975.3699 333.97\n",
      "209 1975.4548 333.6\n",
      "210 1975.537 331.9\n",
      "211 1975.6219 330.06\n",
      "212 1975.7068 328.56\n",
      "213 1975.789 328.34\n",
      "214 1975.874 329.49\n",
      "215 1975.9562 330.76\n",
      "216 1976.041 331.75\n",
      "217 1976.1257 332.56\n",
      "218 1976.2049 333.5\n",
      "219 1976.2896 334.58\n",
      "220 1976.3716 334.88\n",
      "221 1976.4563 334.33\n",
      "222 1976.5383 333.05\n",
      "223 1976.623 330.94\n",
      "224 1976.7077 329.3\n",
      "225 1976.7896 328.94\n",
      "226 1976.8743 330.31\n",
      "227 1976.9563 331.68\n",
      "228 1977.0411 332.93\n",
      "229 1977.126 333.42\n",
      "230 1977.2027 334.7\n",
      "231 1977.2877 336.07\n",
      "232 1977.3699 336.75\n",
      "233 1977.4548 336.27\n",
      "234 1977.537 334.92\n",
      "235 1977.6219 332.75\n",
      "236 1977.7068 331.59\n",
      "237 1977.789 331.16\n",
      "238 1977.874 332.4\n",
      "239 1977.9562 333.85\n",
      "240 1978.0411 334.97\n",
      "241 1978.126 335.38\n",
      "242 1978.2027 336.64\n",
      "243 1978.2877 337.76\n",
      "244 1978.3699 338.01\n",
      "245 1978.4548 337.89\n",
      "246 1978.537 336.54\n",
      "247 1978.6219 334.68\n",
      "248 1978.7068 332.76\n",
      "249 1978.789 332.55\n",
      "250 1978.874 333.92\n",
      "251 1978.9562 334.95\n",
      "252 1979.0411 336.23\n",
      "253 1979.126 336.76\n",
      "254 1979.2027 337.96\n",
      "255 1979.2877 338.88\n",
      "256 1979.3699 339.47\n",
      "257 1979.4548 339.29\n",
      "258 1979.537 337.73\n",
      "259 1979.6219 336.09\n",
      "260 1979.7068 333.92\n",
      "261 1979.789 333.86\n",
      "262 1979.874 335.29\n",
      "263 1979.9562 336.73\n",
      "264 1980.041 338.01\n",
      "265 1980.1257 338.36\n",
      "266 1980.2049 340.07\n",
      "267 1980.2896 340.77\n",
      "268 1980.3716 341.47\n",
      "269 1980.4563 341.17\n",
      "270 1980.5383 339.56\n",
      "271 1980.623 337.6\n",
      "272 1980.7077 335.88\n",
      "273 1980.7896 336.02\n",
      "274 1980.8743 337.1\n",
      "275 1980.9563 338.21\n",
      "276 1981.0411 339.24\n",
      "277 1981.126 340.48\n",
      "278 1981.2027 341.38\n",
      "279 1981.2877 342.5\n",
      "280 1981.3699 342.91\n",
      "281 1981.4548 342.25\n",
      "282 1981.537 340.49\n",
      "283 1981.6219 338.43\n",
      "284 1981.7068 336.69\n",
      "285 1981.789 336.86\n",
      "286 1981.874 338.36\n",
      "287 1981.9562 339.61\n",
      "288 1982.0411 340.75\n",
      "289 1982.126 341.61\n",
      "290 1982.2027 342.7\n",
      "291 1982.2877 343.57\n",
      "292 1982.3699 344.14\n",
      "293 1982.4548 343.35\n",
      "294 1982.537 342.06\n",
      "295 1982.6219 339.81\n",
      "296 1982.7068 337.98\n",
      "297 1982.789 337.86\n",
      "298 1982.874 339.26\n",
      "299 1982.9562 340.49\n",
      "300 1983.0411 341.38\n",
      "301 1983.126 342.52\n",
      "302 1983.2027 343.1\n",
      "303 1983.2877 344.94\n",
      "304 1983.3699 345.76\n",
      "305 1983.4548 345.32\n",
      "306 1983.537 343.98\n",
      "307 1983.6219 342.38\n",
      "308 1983.7068 339.87\n",
      "309 1983.789 339.99\n",
      "310 1983.874 341.15\n",
      "311 1983.9562 342.99\n",
      "312 1984.041 343.7\n",
      "313 1984.1257 344.5\n",
      "314 1984.2049 345.28\n",
      "315 1984.2896 347.06\n",
      "316 1984.3716 347.43\n",
      "317 1984.4563 346.8\n",
      "318 1984.5383 345.39\n",
      "319 1984.623 343.28\n",
      "320 1984.7077 341.07\n",
      "321 1984.7896 341.35\n",
      "322 1984.8743 342.98\n",
      "323 1984.9563 344.22\n",
      "324 1985.0411 344.97\n",
      "325 1985.126 345.99\n",
      "326 1985.2027 347.43\n",
      "327 1985.2877 348.35\n",
      "328 1985.3699 348.93\n",
      "329 1985.4548 348.25\n",
      "330 1985.537 346.56\n",
      "331 1985.6219 344.67\n",
      "332 1985.7068 343.09\n",
      "333 1985.789 342.8\n",
      "334 1985.874 344.24\n",
      "335 1985.9562 345.56\n",
      "336 1986.0411 346.3\n",
      "337 1986.126 346.95\n",
      "338 1986.2027 347.85\n",
      "339 1986.2877 349.55\n",
      "340 1986.3699 350.21\n",
      "341 1986.4548 349.55\n",
      "342 1986.537 347.94\n",
      "343 1986.6219 345.9\n",
      "344 1986.7068 344.85\n",
      "345 1986.789 344.17\n",
      "346 1986.874 345.66\n",
      "347 1986.9562 346.9\n",
      "348 1987.0411 348.02\n",
      "349 1987.126 348.48\n",
      "350 1987.2027 349.42\n",
      "351 1987.2877 350.99\n",
      "352 1987.3699 351.85\n",
      "353 1987.4548 351.26\n",
      "354 1987.537 349.51\n",
      "355 1987.6219 348.1\n",
      "356 1987.7068 346.45\n",
      "357 1987.789 346.36\n",
      "358 1987.874 347.81\n",
      "359 1987.9562 348.96\n",
      "360 1988.041 350.43\n",
      "361 1988.1257 351.73\n",
      "362 1988.2049 352.22\n",
      "363 1988.2896 353.59\n",
      "364 1988.3716 354.22\n",
      "365 1988.4563 353.79\n",
      "366 1988.5383 352.38\n",
      "367 1988.623 350.43\n",
      "368 1988.7077 348.73\n",
      "369 1988.7896 348.88\n",
      "370 1988.8743 350.07\n",
      "371 1988.9563 351.34\n",
      "372 1989.0411 352.76\n",
      "373 1989.126 353.07\n",
      "374 1989.2027 353.68\n",
      "375 1989.2877 355.42\n",
      "376 1989.3699 355.67\n",
      "377 1989.4548 355.12\n",
      "378 1989.537 353.9\n",
      "379 1989.6219 351.67\n",
      "380 1989.7068 349.8\n",
      "381 1989.789 349.99\n",
      "382 1989.874 351.3\n",
      "383 1989.9562 352.53\n",
      "384 1990.0411 353.66\n",
      "385 1990.126 354.7\n",
      "386 1990.2027 355.38\n",
      "387 1990.2877 356.2\n",
      "388 1990.3699 357.16\n",
      "389 1990.4548 356.23\n",
      "390 1990.537 354.81\n",
      "391 1990.6219 352.91\n",
      "392 1990.7068 350.96\n",
      "393 1990.789 351.18\n",
      "394 1990.874 352.83\n",
      "395 1990.9562 354.21\n",
      "396 1991.0411 354.72\n",
      "397 1991.126 355.75\n",
      "398 1991.2027 357.16\n",
      "399 1991.2877 358.6\n",
      "400 1991.3699 359.34\n",
      "401 1991.4548 358.24\n",
      "402 1991.537 356.17\n",
      "403 1991.6219 354.02\n",
      "404 1991.7068 352.15\n",
      "405 1991.789 352.21\n",
      "406 1991.874 353.75\n",
      "407 1991.9562 354.99\n",
      "408 1992.041 355.98\n",
      "409 1992.1257 356.72\n",
      "410 1992.2049 357.81\n",
      "411 1992.2896 359.15\n",
      "412 1992.3716 359.66\n",
      "413 1992.4563 359.25\n",
      "414 1992.5383 357.02\n"
     ]
    },
    {
     "name": "stdout",
     "output_type": "stream",
     "text": [
      "415 1992.623 355.0\n",
      "416 1992.7077 353.01\n",
      "417 1992.7896 353.31\n",
      "418 1992.8743 354.16\n",
      "419 1992.9563 355.4\n",
      "420 1993.0411 356.7\n",
      "421 1993.126 357.16\n",
      "422 1993.2027 358.38\n",
      "423 1993.2877 359.46\n",
      "424 1993.3699 360.28\n",
      "425 1993.4548 359.6\n",
      "426 1993.537 357.57\n",
      "427 1993.6219 355.52\n",
      "428 1993.7068 353.69\n",
      "429 1993.789 353.99\n",
      "430 1993.874 355.34\n",
      "431 1993.9562 356.8\n",
      "432 1994.0411 358.37\n",
      "433 1994.126 358.91\n",
      "434 1994.2027 359.97\n",
      "435 1994.2877 361.26\n",
      "436 1994.3699 361.69\n",
      "437 1994.4548 360.94\n",
      "438 1994.537 359.55\n",
      "439 1994.6219 357.48\n",
      "440 1994.7068 355.84\n",
      "441 1994.789 356.0\n",
      "442 1994.874 357.58\n",
      "443 1994.9562 359.04\n",
      "444 1995.0411 359.97\n",
      "445 1995.126 361.0\n",
      "446 1995.2027 361.64\n",
      "447 1995.2877 363.45\n",
      "448 1995.3699 363.8\n",
      "449 1995.4548 363.26\n",
      "450 1995.537 361.89\n",
      "451 1995.6219 359.45\n",
      "452 1995.7068 358.05\n",
      "453 1995.789 357.75\n",
      "454 1995.874 359.56\n",
      "455 1995.9562 360.7\n",
      "456 1996.041 362.05\n",
      "457 1996.1257 363.24\n",
      "458 1996.2049 364.02\n",
      "459 1996.2896 364.71\n",
      "460 1996.3716 365.41\n",
      "461 1996.4563 364.97\n",
      "462 1996.5383 363.65\n",
      "463 1996.623 361.48\n",
      "464 1996.7077 359.45\n",
      "465 1996.7896 359.61\n",
      "466 1996.8743 360.76\n",
      "467 1996.9563 362.33\n",
      "468 1997.0411 363.18\n",
      "469 1997.126 363.99\n",
      "470 1997.2027 364.56\n",
      "471 1997.2877 366.36\n",
      "472 1997.3699 366.8\n",
      "473 1997.4548 365.63\n",
      "474 1997.537 364.47\n",
      "475 1997.6219 362.5\n",
      "476 1997.7068 360.19\n",
      "477 1997.789 360.77\n",
      "478 1997.874 362.43\n",
      "479 1997.9562 364.28\n",
      "480 1998.0411 365.33\n",
      "481 1998.126 366.15\n",
      "482 1998.2027 367.31\n",
      "483 1998.2877 368.61\n",
      "484 1998.3699 369.3\n",
      "485 1998.4548 368.88\n",
      "486 1998.537 367.64\n",
      "487 1998.6219 365.78\n",
      "488 1998.7068 363.9\n",
      "489 1998.789 364.23\n",
      "490 1998.874 365.46\n",
      "491 1998.9562 366.97\n",
      "492 1999.0411 368.15\n",
      "493 1999.126 368.87\n",
      "494 1999.2027 369.59\n",
      "495 1999.2877 371.14\n",
      "496 1999.3699 371.0\n",
      "497 1999.4548 370.35\n",
      "498 1999.537 369.27\n",
      "499 1999.6219 366.93\n",
      "500 1999.7068 364.64\n",
      "501 1999.789 365.13\n",
      "502 1999.874 366.68\n",
      "503 1999.9562 368.01\n",
      "504 2000.041 369.14\n",
      "505 2000.1257 369.46\n",
      "506 2000.2049 370.51\n",
      "507 2000.2896 371.66\n",
      "508 2000.3716 371.83\n",
      "509 2000.4563 371.69\n",
      "510 2000.5383 370.12\n",
      "511 2000.623 368.12\n",
      "512 2000.7077 366.62\n",
      "513 2000.7896 366.73\n",
      "514 2000.8743 368.29\n",
      "515 2000.9563 369.53\n",
      "516 2001.0411 370.28\n",
      "517 2001.126 371.5\n",
      "518 2001.2027 372.12\n",
      "519 2001.2877 372.86\n",
      "520 2001.3699 374.02\n",
      "521 2001.4548 373.31\n",
      "522 2001.537 371.62\n",
      "523 2001.6219 369.55\n",
      "524 2001.7068 367.96\n",
      "525 2001.789 368.09\n",
      "526 2001.874 369.68\n",
      "527 2001.9562 371.24\n",
      "528 2002.0411 372.44\n",
      "529 2002.126 373.08\n",
      "530 2002.2027 373.52\n",
      "531 2002.2877 374.85\n",
      "532 2002.3699 375.55\n",
      "533 2002.4548 375.4\n",
      "534 2002.537 374.02\n",
      "535 2002.6219 371.48\n",
      "536 2002.7068 370.7\n",
      "537 2002.789 370.25\n",
      "538 2002.874 372.08\n",
      "539 2002.9562 373.78\n",
      "540 2003.0411 374.68\n",
      "541 2003.126 375.62\n",
      "542 2003.2027 376.11\n",
      "543 2003.2877 377.65\n",
      "544 2003.3699 378.35\n",
      "545 2003.4548 378.13\n",
      "546 2003.537 376.61\n",
      "547 2003.6219 374.48\n",
      "548 2003.7068 372.98\n",
      "549 2003.789 373.0\n",
      "550 2003.874 374.35\n",
      "551 2003.9562 375.69\n",
      "552 2004.041 376.79\n",
      "553 2004.1257 377.36\n",
      "554 2004.2049 378.39\n",
      "555 2004.2896 380.5\n",
      "556 2004.3716 380.61\n",
      "557 2004.4563 379.55\n",
      "558 2004.5383 377.76\n",
      "559 2004.623 375.83\n",
      "560 2004.7077 374.05\n",
      "561 2004.7896 374.22\n",
      "562 2004.8743 375.84\n",
      "563 2004.9563 377.44\n",
      "564 2005.0411 378.34\n",
      "565 2005.126 379.61\n",
      "566 2005.2027 380.08\n",
      "567 2005.2877 382.05\n",
      "568 2005.3699 382.24\n",
      "569 2005.4548 382.08\n",
      "570 2005.537 380.67\n",
      "571 2005.6219 378.67\n",
      "572 2005.7068 376.42\n",
      "573 2005.789 376.8\n",
      "574 2005.874 378.31\n",
      "575 2005.9562 379.96\n",
      "576 2006.0411 381.37\n",
      "577 2006.126 382.02\n",
      "578 2006.2027 382.56\n",
      "579 2006.2877 384.37\n",
      "580 2006.3699 384.92\n",
      "581 2006.4548 384.03\n",
      "582 2006.537 382.28\n",
      "583 2006.6219 380.48\n",
      "584 2006.7068 378.81\n",
      "585 2006.789 379.06\n",
      "586 2006.874 380.14\n",
      "587 2006.9562 381.66\n",
      "588 2007.0411 382.58\n",
      "589 2007.126 383.71\n",
      "590 2007.2027 384.34\n",
      "591 2007.2877 386.23\n",
      "592 2007.3699 386.41\n",
      "593 2007.4548 385.87\n",
      "594 2007.537 384.45\n",
      "595 2007.6219 381.84\n",
      "596 2007.7068 380.86\n",
      "597 2007.789 380.86\n",
      "598 2007.874 382.36\n",
      "599 2007.9562 383.61\n",
      "600 2008.041 385.07\n",
      "601 2008.1257 385.84\n",
      "602 2008.2049 385.83\n",
      "603 2008.2896 386.77\n",
      "604 2008.3716 388.51\n",
      "605 2008.4563 388.05\n",
      "606 2008.5383 386.25\n",
      "607 2008.623 384.08\n",
      "608 2008.7077 383.09\n",
      "609 2008.7896 382.78\n",
      "610 2008.8743 384.01\n",
      "611 2008.9563 385.11\n",
      "612 2009.0411 386.65\n",
      "613 2009.126 387.12\n",
      "614 2009.2027 388.52\n",
      "615 2009.2877 389.57\n",
      "616 2009.3699 390.16\n",
      "617 2009.4548 389.62\n",
      "618 2009.537 388.07\n",
      "619 2009.6219 386.08\n",
      "620 2009.7068 384.65\n",
      "621 2009.789 384.33\n",
      "622 2009.874 386.05\n",
      "623 2009.9562 387.49\n",
      "624 2010.0411 388.55\n",
      "625 2010.126 390.07\n",
      "626 2010.2027 391.01\n",
      "627 2010.2877 392.38\n",
      "628 2010.3699 393.22\n",
      "629 2010.4548 392.24\n",
      "630 2010.537 390.33\n",
      "631 2010.6219 388.52\n",
      "632 2010.7068 386.84\n",
      "633 2010.789 387.16\n",
      "634 2010.874 388.67\n",
      "635 2010.9562 389.81\n",
      "636 2011.0411 391.3\n",
      "637 2011.126 391.92\n",
      "638 2011.2027 392.45\n",
      "639 2011.2877 393.37\n",
      "640 2011.3699 394.28\n",
      "641 2011.4548 393.69\n",
      "642 2011.537 392.59\n",
      "643 2011.6219 390.21\n",
      "644 2011.7068 389.0\n",
      "645 2011.789 388.93\n",
      "646 2011.874 390.24\n",
      "647 2011.9562 391.8\n",
      "648 2012.041 393.07\n",
      "649 2012.1257 393.35\n",
      "650 2012.2049 394.36\n",
      "651 2012.2896 396.43\n",
      "652 2012.3716 396.87\n",
      "653 2012.4563 395.88\n",
      "654 2012.5383 394.52\n",
      "655 2012.623 392.54\n",
      "656 2012.7077 391.13\n",
      "657 2012.7896 391.01\n",
      "658 2012.8743 392.95\n",
      "659 2012.9563 394.34\n",
      "660 2013.0411 395.61\n",
      "661 2013.126 396.85\n",
      "662 2013.2027 397.26\n",
      "663 2013.2877 398.35\n",
      "664 2013.3699 399.98\n",
      "665 2013.4548 398.87\n",
      "666 2013.537 397.37\n",
      "667 2013.6219 395.41\n",
      "668 2013.7068 393.39\n",
      "669 2013.789 393.7\n",
      "670 2013.874 395.19\n",
      "671 2013.9562 396.82\n",
      "672 2014.0411 397.92\n",
      "673 2014.126 398.1\n",
      "674 2014.2027 399.47\n",
      "675 2014.2877 401.33\n",
      "676 2014.3699 401.88\n",
      "677 2014.4548 401.31\n",
      "678 2014.537 399.07\n",
      "679 2014.6219 397.21\n",
      "680 2014.7068 395.4\n",
      "681 2014.789 395.65\n",
      "682 2014.874 397.23\n",
      "683 2014.9562 398.79\n",
      "684 2015.0411 399.85\n",
      "685 2015.126 400.31\n",
      "686 2015.2027 401.51\n",
      "687 2015.2877 403.45\n",
      "688 2015.3699 404.1\n",
      "689 2015.4548 402.88\n",
      "690 2015.537 401.61\n",
      "691 2015.6219 399.0\n",
      "692 2015.7068 397.5\n",
      "693 2015.789 398.28\n",
      "694 2015.874 400.24\n",
      "695 2015.9562 401.89\n",
      "696 2016.041 402.65\n",
      "697 2016.1257 404.16\n",
      "698 2016.2049 404.85\n",
      "699 2016.2896 407.57\n",
      "700 2016.3716 407.66\n",
      "701 2016.4563 407.0\n",
      "702 2016.5383 404.5\n",
      "703 2016.623 402.24\n",
      "704 2016.7077 401.01\n",
      "705 2016.7896 401.5\n",
      "706 2016.8743 403.64\n",
      "707 2016.9563 404.56\n",
      "708 2017.0411 406.07\n",
      "709 2017.126 406.64\n",
      "710 2017.2027 407.06\n",
      "711 2017.2877 408.95\n",
      "712 2017.3699 409.91\n",
      "713 2017.4548 409.12\n",
      "714 2017.537 407.2\n",
      "715 2017.6219 405.24\n",
      "716 2017.7068 403.27\n",
      "717 2017.789 403.64\n",
      "718 2017.874 405.17\n",
      "719 2017.9562 406.75\n",
      "720 2018.0411 408.05\n",
      "721 2018.126 408.34\n",
      "722 2018.2027 409.25\n",
      "723 2018.2877 410.3\n",
      "724 2018.3699 411.3\n",
      "725 2018.4548 410.88\n",
      "726 2018.537 408.9\n",
      "727 2018.6219 407.1\n",
      "728 2018.7068 405.59\n",
      "729 2018.789 405.99\n",
      "730 2018.874 408.12\n",
      "731 2018.9562 409.23\n"
     ]
    }
   ],
   "source": [
    "#these import statements go at the top of your script\n",
    "#numpy is a Python package for working with arrays/vectors/matrices and doing math\n",
    "import numpy as np \n",
    "\n",
    "filename = 'maunaloadata.csv'\n",
    "file = open(filename, 'r')\n",
    "listoflines = file.readlines() #find where the data starts\n",
    "file.close()\n",
    "\n",
    "filelen = len(listoflines)\n",
    "header = 57\n",
    "datalen = filelen-header\n",
    "print ('The number of months in the dataset is', datalen)\n",
    "\n",
    "#initialize numpy arrays that will hold our data\n",
    "date = np.zeros(datalen)\n",
    "dataCO2 = np.zeros(datalen)\n",
    "\n",
    "#reopen file and skip the 57 header lines\n",
    "file = open(filename, 'r')\n",
    "for i in range(header):\n",
    "    file.readline()\n",
    "    \n",
    "#now get the data one line at a time and put it in the numpy arrays\n",
    "for i in range(datalen):\n",
    "    aline = file.readline()\n",
    "    rowelements = aline.split(',')\n",
    "    date[i] = float(rowelements[3])\n",
    "    dataCO2[i] = float(rowelements[8])\n",
    "    print(i, date[i], dataCO2[i])\n",
    "    \n",
    "file.close()\n"
   ]
  },
  {
   "cell_type": "markdown",
   "metadata": {},
   "source": [
    "### Plotting our Mauna Loa data"
   ]
  },
  {
   "cell_type": "code",
   "execution_count": 56,
   "metadata": {},
   "outputs": [
    {
     "data": {
      "text/plain": [
       "<matplotlib.legend.Legend at 0x113571320>"
      ]
     },
     "execution_count": 56,
     "metadata": {},
     "output_type": "execute_result"
    },
    {
     "data": {
      "image/png": "[encoded data removed]",
      "text/plain": [
       "<Figure size 576x432 with 1 Axes>"
      ]
     },
     "metadata": {
      "needs_background": "light"
     },
     "output_type": "display_data"
    }
   ],
   "source": [
    "#matplotlib is another Python package, used for making plots.\n",
    "#matplotlib is very similar to how you make plots in MATLAB\n",
    "import matplotlib.pyplot as py \n",
    "\n",
    "py.figure(0, figsize=(8,6))\n",
    "py.plot(date, dataCO2, c='blue', linewidth=2, label='Monthly CO2')\n",
    "py.xlim(1958.3, 2019)\n",
    "py.ylim(310, 420)\n",
    "py.ylabel('Atmospheric CO2 in ppm')\n",
    "py.xlabel('Year')\n",
    "py.title('Arguably most important global environmental record')\n",
    "py.tick_params(labelsize=12)\n",
    "py.legend() #displays the line label"
   ]
  },
  {
   "cell_type": "code",
   "execution_count": null,
   "metadata": {},
   "outputs": [],
   "source": []
  }
 ],
 "metadata": {
  "kernelspec": {
   "display_name": "Python 3",
   "language": "python",
   "name": "python3"
  },
  "language_info": {
   "codemirror_mode": {
    "name": "ipython",
    "version": 3
   },
   "file_extension": ".py",
   "mimetype": "text/x-python",
   "name": "python",
   "nbconvert_exporter": "python",
   "pygments_lexer": "ipython3",
   "version": "3.7.1"
  }
 },
 "nbformat": 4,
 "nbformat_minor": 2
}
